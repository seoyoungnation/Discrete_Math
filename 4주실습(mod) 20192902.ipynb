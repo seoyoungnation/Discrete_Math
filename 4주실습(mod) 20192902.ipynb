{
 "cells": [
  {
   "cell_type": "markdown",
   "metadata": {},
   "source": [
    "### 재귀함수 (Recursive Function)\n",
    "본 실습에서는 파이썬 재귀함수(recursive function)  구현에 대해 살펴보겠습니다."
   ]
  },
  {
   "cell_type": "markdown",
   "metadata": {},
   "source": [
    "지금까지 알고리즘은 iterative (반복적) 방법으로 구현한 것만을 학습했습니다. 본 실습에서는 재귀적(recursive) 방법으로 구현하는 방법을 살펴봅니다. "
   ]
  },
  {
   "cell_type": "markdown",
   "metadata": {},
   "source": [
    "프로그래밍 용어에서 재귀 함수는 직접 또는 간접적으로 자기 자신을 호출하는 루틴으로 정의될 수 있습니다.    \n",
    "당연히 모든 재귀 프로그램은 반복적 방법을 사용하여 작성할 수 있습니다. 그러나, 재귀 알고리즘을 사용하면 특정 문제를 매우 쉽게 해결할 수 있습니다.   하노이타워문제(TOH)는 그러한 재귀적 알고리즘으로 효과적으로 풀 수 있는 예입니다.   \n",
    "&nbsp;&nbsp;  **재귀적 알고리즘의 수학적 기반은 '수학적 귀납법(mathematical induction)'** 입니다.     \n",
    "        \n",
    "\n",
    "재귀적 해결 방법의 구체적인 사례로 다음  예의  문제 해결을 생각하여 봅시다.   \n",
    "\"일상적인 인터뷰 질문, N 명이 참석한 파티에서는 각 사람이 한 번만 서로 악수한다고 할 때, 총 몇 번의 악수가 발생합니까?  \" \n",
    "\n",
    "**해결책:**    \n",
    "그것은 다음과 같이 재귀적으로 해결할 수 있습니다. N 명이 있습니다. 각 사람은 한 번만 서로 악수합니다. N 번째 사람을 고려할 때, 그는 (N-1) 사람들과 악수해야합니다. 이제 문제는 (N-1) 명으로 축소되었습니다. $HandShake(N)$ 을 전체 악수 횟수로 가정하면 재귀적으로 다음과 같이 공식화 할 수 있습니다.    \n",
    "\n",
    "$~~~HandShake(N) = (N-1) + HandShake(N-1)$  $~~~HandShake(1) = 0$ (즉 마지막 사람은 이미 모든 사람과 악수했습니다).\n",
    "\n",
    "그것을 수학적으로 풀면 $~~~HandShake(N)=N(N-1)/2~~~ $ 임을 구할 수있습니다.   \n",
    "이를 간단히 다음과 같이 프로그래밍할 수도 있습니다. \n",
    "\n",
    "&nbsp;&nbsp;&nbsp;&nbsp;$ ~~~def~~ HandShake(N):   $  \n",
    "&nbsp;&nbsp;&nbsp;&nbsp;$ ~~~~~~if N < 0:  $  \n",
    "&nbsp;&nbsp;&nbsp;&nbsp;$ ~~~~~~~~~ return~~ print(\" N should~ be~ more~ than~ 0.\")  $  \n",
    "&nbsp;&nbsp;&nbsp;&nbsp;$ ~~~~~return~~ int(N*(N-1)/2) $      \n",
    "\n",
    "그러나, 이러한 방법은 먼저 문제를 수학적으로 답을 계산해 내어야 하므로, 전산과학 측면에서는 실제적으로 별 매력이 없는 풀이 방법입니다.  "
   ]
  },
  {
   "cell_type": "markdown",
   "metadata": {},
   "source": [
    "한편, 다음과 같이 반복적 프로그래밍으로 상기 문제를 해결할 수있습니다.      "
   ]
  },
  {
   "cell_type": "code",
   "execution_count": null,
   "metadata": {},
   "outputs": [],
   "source": [
    "def HandShake(N): # 반복적 프로그래밍 방법 구현 \n",
    "    result = 0\n",
    "    if N <= 0 :\n",
    "        return print(\" N should be more than 0.\")\n",
    "    for i in range(N-1, -1, -1):\n",
    "        result+=i\n",
    "    return result"
   ]
  },
  {
   "cell_type": "code",
   "execution_count": null,
   "metadata": {},
   "outputs": [],
   "source": [
    "HandShake(5)"
   ]
  },
  {
   "cell_type": "markdown",
   "metadata": {},
   "source": [
    "그런데, 상기 문제 풀이 수학적 알고리즘에 충실한 방법은 다음과  같은  재귀적 프로그래밍 방법입니다."
   ]
  },
  {
   "cell_type": "code",
   "execution_count": null,
   "metadata": {},
   "outputs": [],
   "source": [
    "def HandShake2(N): # 재귀적 방법 구현    \n",
    "    if N <= 0:   # 예외사항 처리 \n",
    "        return print(\" N should be more than 0.\")\n",
    "    elif N==1:   #  종료 조건 \n",
    "        return 0\n",
    "    else :\n",
    "        return (N-1)+HandShake2(N-1)  # 재귀적 호출 "
   ]
  },
  {
   "cell_type": "code",
   "execution_count": null,
   "metadata": {},
   "outputs": [],
   "source": [
    "HandShake2(5)"
   ]
  },
  {
   "cell_type": "markdown",
   "metadata": {},
   "source": [
    "#### 재귀적 풀이에 있어서 가장 유의할 점은 예외사항 처리뿐만 아니라, \n",
    "1) 각 재귀 함수 호출시에 해당(현재) 실행 컨텍스트(문맥) 상태를 올바르게 유지하고, \n",
    "2) 종료 조건을 반드시 점검하는 것입니다.  "
   ]
  },
  {
   "cell_type": "markdown",
   "metadata": {},
   "source": [
    "이제 교과서에 나오는 몇 가지 재귀적 알고리즘을 살펴 보기로 합니다. "
   ]
  },
  {
   "cell_type": "markdown",
   "metadata": {},
   "source": [
    "### 5.4.1   Recursive Algorithms  \n",
    "####  EXAMPLE 1.  계승(factorial n! ) 계산 "
   ]
  },
  {
   "cell_type": "code",
   "execution_count": null,
   "metadata": {},
   "outputs": [],
   "source": [
    "#To compute power using recursive algorithm\n",
    "def factorial(n):\n",
    "    if n < 0: #  예외 사항 \n",
    "        return print(\"please, take n as n >= 0\")\n",
    "    if n==0:  # 종료 조건 \n",
    "        return 1\n",
    "    else:\n",
    "        return n*factorial(n-1) #recursive call algorithm"
   ]
  },
  {
   "cell_type": "code",
   "execution_count": null,
   "metadata": {},
   "outputs": [],
   "source": [
    "factorial(5)   "
   ]
  },
  {
   "cell_type": "markdown",
   "metadata": {},
   "source": [
    "#### Example 2.  정수의 거듭 제곱  ( $a^n$ ) 계산 "
   ]
  },
  {
   "cell_type": "code",
   "execution_count": null,
   "metadata": {},
   "outputs": [],
   "source": [
    "#To compute power using recursive algorithm\n",
    "def power(a,n):\n",
    "    if n==0:  #종료 조건 \n",
    "        return 1\n",
    "    else:\n",
    "        return a*power(a, n-1) #recursive call algorithm"
   ]
  },
  {
   "cell_type": "code",
   "execution_count": null,
   "metadata": {},
   "outputs": [],
   "source": [
    "power(2, 10)"
   ]
  },
  {
   "cell_type": "markdown",
   "metadata": {},
   "source": [
    "#### Example 3.  2개 정수의 최대공약수(Greatest Common Divisor) 계산 (Computing gcd(a,b) where a < b)\n",
    "최대공약수를 찾는 다음의 유클리드 호젯법(Euclidean algorithm) 의 재귀적 구현.   \n",
    "&nbsp;&nbsp;&nbsp;&nbsp;&nbsp;&nbsp;  $gcd(a, b) = gcd(b ~mod~ a, a)$ &nbsp;&nbsp;&nbsp;&nbsp;  ;&nbsp;&nbsp; 조건 $ gcd(0, b) = b $ when $ b > 0 $\n",
    "\n"
   ]
  },
  {
   "cell_type": "code",
   "execution_count": null,
   "metadata": {},
   "outputs": [],
   "source": [
    "def gcd(a,b):\n",
    "    if a==0: #종료조건 \n",
    "        return b\n",
    "    else: return gcd(b%a , a)"
   ]
  },
  {
   "cell_type": "code",
   "execution_count": null,
   "metadata": {},
   "outputs": [],
   "source": [
    "gcd(24,36)"
   ]
  },
  {
   "cell_type": "markdown",
   "metadata": {},
   "source": [
    "#### 재귀함수 구현시에 유의할 점 \n",
    "##### 1) 재귀함수에서는  내부 구현 알고리즘이 재귀적으로 수행되게 되는 데, 각 재귀 호출시에 각 호출의  실행 컨텍스트(문맥)가 있고 이 실행 컨텍스트에서 알고리즘이 수행되어야 한다.    \n",
    "##### 2) 종료 조건이 없으면 재귀함수는 무한 재귀호출이 될 수있는 데, 각 재귀호출의 컨텍스트(문맥)들이 계속 메모리(스택)에 저장되어야 하므로 이로 인해 메모리(스택) 가 overflow 되어 프로그램 수행이 문제가 되어 에러처리되고 종료된다.   "
   ]
  },
  {
   "cell_type": "markdown",
   "metadata": {},
   "source": [
    "#### 1) 재귀함수의 각 호출시에  해당 호출  실행 컨텍스트(문맥)에서 수행되어야 함.\n",
    "재귀함수를 처리할 때,  각 재귀 호출마다 각자의 고유한 실행 컨텍스트가 있다는 것을 잊어서는 안됩니다.     \n",
    "재귀중 각 재귀 호출의 실행이 해당 호출 컨텍스트(문맥)에서 수행되도록 하기 위해서 해당 호출의 해당 컨텍스트 상태가 다음 중 하나를 통하여 유지되도록 구현해야 합니다. \n",
    "\n",
    "**해당 재귀 호출에서 수행되어야 할 컨텍스트(문맥)의 상태가 해당 재귀 호출 시에 인자를 통해 전달되도록 함 **    \n",
    "**재귀 호출에서 수행되어야 할 컨텍스트의 상태를 글로벌 범위로 유지하여, 각 현재 재귀 호출에서 이를 참조하여 해당 재귀 호출 실행 컨텍스트 상태를 계산할 수있도록 지원하도록 함.  **   \n",
    "\n",
    "이를 좀 더 명확히 설명하기 위해, 재귀를 사용하여 1 + 2 + 3 ⋅⋅⋅⋅ + 10을 계산해 봅시다. 우리가 유지해야하는 상태는 (현재 추가하고있는 현재 수, 누적 합계)입니다."
   ]
  },
  {
   "cell_type": "markdown",
   "metadata": {},
   "source": [
    "**다음은 각 재귀호출을 통해 해당 재귀 호출의 실행 컨텍스트의 상태를 재귀 호출의 인자로 전달하는 방법에 의한 재귀함수 구현입니다. **"
   ]
  },
  {
   "cell_type": "code",
   "execution_count": null,
   "metadata": {},
   "outputs": [],
   "source": [
    "def sum_recursive(current_number, accumulated_sum):\n",
    "    # Base case\n",
    "    # Return the final state\n",
    "    if current_number == 11: #종료조건 \n",
    "        return accumulated_sum\n",
    "\n",
    "    # Recursive case\n",
    "   \n",
    "    else:  # 해당 재귀호출 실행 콘텍스트의 상태인 (현재 추가하고있는 현재 수, 누적 합계)가 해당 재귀 호출의 인자로 전달  \n",
    "        return sum_recursive(current_number + 1, accumulated_sum + current_number)"
   ]
  },
  {
   "cell_type": "code",
   "execution_count": null,
   "metadata": {},
   "outputs": [],
   "source": [
    "# Pass the initial state\n",
    "sum_recursive(1, 0)"
   ]
  },
  {
   "cell_type": "markdown",
   "metadata": {},
   "source": [
    "상기 재귀 알고리즘의 상태\n",
    "![Alttext](recursive.png)"
   ]
  },
  {
   "cell_type": "markdown",
   "metadata": {},
   "source": [
    "**다음은 재귀호출시의 상태를 글로벌 범위로 하여, 해당 재귀 호출 실행시에  이를 참조하여 해당 재귀호출 실행 컨텍스트 상태를 계산하여 이용할 수있도록 하는 구현 예입니다. **"
   ]
  },
  {
   "cell_type": "code",
   "execution_count": null,
   "metadata": {},
   "outputs": [],
   "source": [
    "# Global mutable state\n",
    "current_number = 1\n",
    "accumulated_sum = 0\n",
    "\n",
    "def sum_recursive2():\n",
    "    global current_number \n",
    "    global accumulated_sum\n",
    "    # Base case\n",
    "    if current_number == 11:\n",
    "        return accumulated_sum\n",
    "    # Recursive case\n",
    "    else:\n",
    "        accumulated_sum = accumulated_sum + current_number\n",
    "        current_number = current_number + 1\n",
    "        return sum_recursive2()"
   ]
  },
  {
   "cell_type": "code",
   "execution_count": null,
   "metadata": {},
   "outputs": [],
   "source": [
    "# Pass the initial state\n",
    "sum_recursive2()"
   ]
  },
  {
   "cell_type": "markdown",
   "metadata": {},
   "source": [
    "#####  2) 재귀 알고리즘은 종료 조건이  명확히  기술되어야 함"
   ]
  },
  {
   "cell_type": "markdown",
   "metadata": {},
   "source": [
    "상기 Example 2의 정수 거듭제곱의 재귀 호출 구현의 다음 예를 살펴봅시다. "
   ]
  },
  {
   "cell_type": "code",
   "execution_count": null,
   "metadata": {},
   "outputs": [],
   "source": [
    "#To compute power using recursive algorithm\n",
    "def power2(a,n):\n",
    "  #  if n==0: #  종료 조건 \n",
    "  #      return 1\n",
    "  #  else:\n",
    "        return a*power2(a,n-1) #recursive call algorithm"
   ]
  },
  {
   "cell_type": "code",
   "execution_count": null,
   "metadata": {},
   "outputs": [],
   "source": [
    "power2(2,10)"
   ]
  },
  {
   "cell_type": "markdown",
   "metadata": {},
   "source": [
    "**재귀 함수 구현의 단점을 아래에 간단히 기술합니다. 이에 대한 자세한 내용은 다음 실습에서 살펴 보도록 합니다.**     \n",
    "1) 재귀적 호출로 해당 재귀적 호출의 실행 컨텍스트를 다음 재귀호출에 인자로 전달하는 경우에 해당 컨텍스트가 재귀 호출의 복귀 되기 전까지는 메모리(스택)에 보관되므로 메모리가 증가합니다.       \n",
    "2) 각 재귀적 호출의  실행 컨텍스트를 글로벌 변수로 저장하여 처리하는 경우에는 메모리 증가는 피할 수있으나, 글로벌 변수는 잘못사용하면 각 호출의 실행에 영향을 미치므로 side effect 가 생길 수있으므로 주의하여야 합니다.     "
   ]
  },
  {
   "cell_type": "markdown",
   "metadata": {},
   "source": [
    "##### 재귀함수 구현은  'divide and conquer '  (문제를  좀 덜 복잡하게 나누어서  해결)  전략에 의한  문제  해결에 매우 유용한 수단을 제공합니다.\n",
    "다음 교과서의  'divide and conquer '  전략에 의해  이진탐색(binary search), 합병정렬 (merge sort) 등의 문제를 재귀적으로 푸는 구현을 살펴 보기로 합니다. "
   ]
  },
  {
   "cell_type": "markdown",
   "metadata": {},
   "source": [
    "### 5.4.3 Recursion and Iteration"
   ]
  },
  {
   "cell_type": "markdown",
   "metadata": {},
   "source": [
    "### Example 6 (Recursive Binary Search)"
   ]
  },
  {
   "cell_type": "markdown",
   "metadata": {},
   "source": [
    "#### 다음은 반복적 방법에 의한 이진탐색 구현이다(3주 실습에 학습함)."
   ]
  },
  {
   "cell_type": "code",
   "execution_count": null,
   "metadata": {},
   "outputs": [],
   "source": [
    "def binarysearch(a,num): #function definition with its parameters 'a' is the inputlist\n",
    "                         #and 'num' number to be found\n",
    "\n",
    "    first=0 #initially the first position is zero\n",
    "    last=len(a)-1 #initially the last position is the total length of the inputlist-1\n",
    "    found=False #boolean value to indicate if the number to be searched is found or not.\n",
    "\n",
    "    while first<=last and not found:\n",
    "        midpoint=(first+last)//2 #dividing the inputlist into two halves and comparing the number to be found with the midpoint.\n",
    "\n",
    "        if a[midpoint]==num: #If the number to be found is equal to the midpoint returns the position.\n",
    "           found=True\n",
    "        else:\n",
    "            if num<a[midpoint]: #if the number to be found is less than the midpoint\n",
    "                                #then the first half of the divided input list is taken for further computation.\n",
    "\n",
    "                last=midpoint-1 #by assigning the last number of the first half(number before the midpoint) to the variable last.\n",
    "\n",
    "\n",
    "            else:\n",
    "                first=midpoint+1 #if the number to be found is greater than the midpoint\n",
    "                                 #then the second half of the divided input list is taken for further computation.\n",
    "                                #by assigning the first number of the second half(number following the midpoint) to the variable first.\n",
    "    if midpoint < len(a) and found:\n",
    "          return midpoint #returns the position of the number found in the list. \n",
    "    else:\n",
    "          return -1"
   ]
  },
  {
   "cell_type": "code",
   "execution_count": null,
   "metadata": {},
   "outputs": [],
   "source": [
    "numlist=[1, 3, 5, 6, 7, 8, 10, 12, 13, 15, 16, 18, 19, 20, 22] #List of inputs\n",
    "binarysearch(numlist, 15)"
   ]
  },
  {
   "cell_type": "markdown",
   "metadata": {},
   "source": [
    "#### 재귀적 방법에 의한 이진 탐색 의 구현의 예는 다음과 같다."
   ]
  },
  {
   "cell_type": "code",
   "execution_count": null,
   "metadata": {},
   "outputs": [],
   "source": [
    "def binarysearch_rec(a, first, last, num):\n",
    "    mid=(first+last)//2\n",
    "    if a[mid]==num:\n",
    "        return mid\n",
    "    elif (num < a[mid]) and (first < mid): \n",
    "        return binarysearch_rec(a, first, mid-1, num)\n",
    "    elif (num > a[mid]) and (last > mid): \n",
    "        return binarysearch_rec(a, mid+1, last, num)\n",
    "    else: return -1 "
   ]
  },
  {
   "cell_type": "code",
   "execution_count": null,
   "metadata": {},
   "outputs": [],
   "source": [
    "numlist=[1, 3, 5, 6, 7, 8, 10, 12, 13, 15, 16, 18, 19, 20, 22] #List of inputs\n",
    "binarysearch_rec(numlist, 0, len(numlist)-1, 15)"
   ]
  },
  {
   "cell_type": "markdown",
   "metadata": {},
   "source": [
    "### 5.4.4 Merge Sort"
   ]
  },
  {
   "cell_type": "markdown",
   "metadata": {},
   "source": [
    "#### 다음은 재귀적 방법에 의한 합병정렬(merge sort)의 구현이다."
   ]
  },
  {
   "cell_type": "code",
   "execution_count": null,
   "metadata": {},
   "outputs": [],
   "source": [
    "def merge(L1, L2):\n",
    "    result = []\n",
    "    while (len(L1) > 0) and (len(L2) > 0):\n",
    "            if L1[0] < L2[0]:\n",
    "                result.append(L1[0]) #merges to append the elements\n",
    "                L1.pop(0)\n",
    "            else:\n",
    "                result.append(L2[0])\n",
    "                L2.pop(0)\n",
    "    result += L1\n",
    "    result += L2\n",
    "    return result"
   ]
  },
  {
   "cell_type": "code",
   "execution_count": null,
   "metadata": {},
   "outputs": [],
   "source": [
    "L1=[3,7,9,12]\n",
    "L2=[2,5,6,10,15]\n",
    "merge(L1,L2)"
   ]
  },
  {
   "cell_type": "code",
   "execution_count": null,
   "metadata": {},
   "outputs": [],
   "source": [
    "def msort_rec(x): #function for merge sort\n",
    "    if len(x) < 2:\n",
    "        return x\n",
    "    mid = len(x)//2 #divides the elements into halves\n",
    "    y = msort_rec(x[:mid])\n",
    "    z = msort_rec(x[mid:])\n",
    "    return merge(y,z)"
   ]
  },
  {
   "cell_type": "code",
   "execution_count": null,
   "metadata": {},
   "outputs": [],
   "source": [
    "a=[3, 7, 9, 12, 2, 5, 6, 10, 15]\n",
    "msort_rec(a)"
   ]
  },
  {
   "cell_type": "markdown",
   "metadata": {},
   "source": [
    "###  재귀 알고리즘과 반복 알고리즘 비교   \n",
    "1. 재귀적 알고리즘은 연산량이 많다. 재귀식(점화식)이 있는 경우에는 문제를 간결하게 해결할 수있으나, 같은 연산이 중복되어 수행되어야 하므로 연산량이 많고 중간  결과를 계속 저장하여(call stack) 보관하여야  하므로 메모리가 증가함. 재귀식(점화식)이 있는 경우에 문제를 간결하게 해결할 수있음. 그러나, 경우에 따라서는 문제가 재귀알고리즘만으로 풀 수있다.      \n",
    "2. 반복 알고리즘은 재귀알고리즘 구현에 비해 연산량 및 메모리 소요량이 비교적 적으나, 경우에 따라서는 문제 풀이가 비교적 복잡하다."
   ]
  },
  {
   "cell_type": "markdown",
   "metadata": {},
   "source": [
    "다음은 피보나츠 수열  𝑓(𝑛)=𝑓(𝑛−1)+𝑓(𝑛−2)   𝑓𝑜𝑟  𝑛>2  𝑤𝑖𝑡ℎ  𝑓(1)=𝑓(2)=1  의 파이썬 구현을 통해, 재귀알고리즘과 반복 알고리즘 구현을 비교하여 봅니다. "
   ]
  },
  {
   "cell_type": "markdown",
   "metadata": {},
   "source": [
    "#### 피보나츠 수열의 재귀적 구현 "
   ]
  },
  {
   "cell_type": "code",
   "execution_count": null,
   "metadata": {},
   "outputs": [],
   "source": [
    "def fibonacci(n):\n",
    "    global add_count    \n",
    "    if n <0:\n",
    "        return print(\"please take n greater than 0\")\n",
    "    if n <=1:\n",
    "        print(\" I am if %d\" %n)\n",
    "        return n\n",
    "    else: \n",
    "        print(\" I am else %d\" %n)\n",
    "        add_count+=1       \n",
    "        return fibonacci(n-1)+fibonacci(n-2)"
   ]
  },
  {
   "cell_type": "code",
   "execution_count": null,
   "metadata": {},
   "outputs": [],
   "source": [
    "add_count=0\n",
    "n=5\n",
    "result=fibonacci(n)\n",
    "print(\" %dth fibonacci number = %d\" %(n, result))\n",
    "print(\"Total numbers of addition for calculating %dth fibonacci number = %d\" %(n, add_count))"
   ]
  },
  {
   "cell_type": "markdown",
   "metadata": {},
   "source": [
    "#### 피보나츠 수열의 memoization 구현(재귀적 구현이나, 메모리 증가를 절약)    \n",
    "메모이제이션(memoization)은 컴퓨터 프로그램이 동일한 계산을 반복해야 할 때, 이전에 계산한 값을 메모리에 저장함으로써   \n",
    "동일한 계산의 반복 수행을 제거하여 프로그램 실행 속도를 빠르게 하는 기법"
   ]
  },
  {
   "cell_type": "code",
   "execution_count": 5,
   "metadata": {},
   "outputs": [],
   "source": [
    "memo = {0:0, 1:1}\n",
    "def fibonacci2(n):\n",
    "    global add_count\n",
    "    if n < 0:\n",
    "        return print(\"please take n as n > 0\")    \n",
    "    if n < len(memo):\n",
    "        print(\" I am if %d\" %n)\n",
    "        return memo[n]   \n",
    "    else:\n",
    "        print(\" I am else %d\" %n)\n",
    "        memo[n]=fibonacci2(n-1) + fibonacci2(n-2)\n",
    "        add_count+=1\n",
    "        return memo[n]\n"
   ]
  },
  {
   "cell_type": "code",
   "execution_count": 6,
   "metadata": {},
   "outputs": [
    {
     "name": "stdout",
     "output_type": "stream",
     "text": [
      " I am else 5\n",
      " I am else 4\n",
      " I am else 3\n",
      " I am else 2\n",
      " I am if 1\n",
      " I am if 0\n",
      " I am if 1\n",
      " I am if 2\n",
      " I am if 3\n",
      " 5th fibonacci number = 5\n",
      "Total numbers of addition for calculating 5th fibonacci number = 4\n"
     ]
    }
   ],
   "source": [
    "add_count=0\n",
    "n=5\n",
    "result=fibonacci2(5)\n",
    "print(\" %dth fibonacci number = %d\" %(n, result))\n",
    "print(\"Total numbers of addition for calculating %dth fibonacci number = %d\" %(n, add_count))\n"
   ]
  },
  {
   "cell_type": "markdown",
   "metadata": {},
   "source": [
    "#### 피보나츠 수열의 반복적 구현\n",
    "더하기 연산 회수는 n 소요 메모리는 integer 타입 a,b  저장 공간만 필요 "
   ]
  },
  {
   "cell_type": "code",
   "execution_count": 7,
   "metadata": {},
   "outputs": [],
   "source": [
    "def fibonacci3(n):    \n",
    "    if n <=1 :\n",
    "        return n\n",
    "    a, b=0, 1\n",
    "    print(type(a))\n",
    "    for i in range(n):        \n",
    "        b,a = a+b, b\n",
    "    return a"
   ]
  },
  {
   "cell_type": "code",
   "execution_count": 8,
   "metadata": {},
   "outputs": [
    {
     "name": "stdout",
     "output_type": "stream",
     "text": [
      "1\n",
      "<class 'int'>\n",
      "1\n",
      "<class 'int'>\n",
      "2\n",
      "<class 'int'>\n",
      "3\n",
      "<class 'int'>\n",
      "5\n",
      "<class 'int'>\n",
      "8\n",
      "<class 'int'>\n",
      "13\n",
      "<class 'int'>\n",
      "21\n",
      "<class 'int'>\n",
      "34\n"
     ]
    }
   ],
   "source": [
    "for i in range(1,10):\n",
    "    print(fibonacci3(i))"
   ]
  },
  {
   "cell_type": "markdown",
   "metadata": {},
   "source": [
    "<br/><br/><br/><br/><br/>\n",
    "\n",
    "## 실습 "
   ]
  },
  {
   "cell_type": "markdown",
   "metadata": {},
   "source": [
    "### 실습 1.  정수 리스트의 평균값 계산의 재귀적 구현   \n",
    "주어진 정수 리스트 (예 $a=[8,5,3,2,9,1,4,7,6]$ )의 평균을 계산하는 알고리즘의 반복적 방법의 구현은 다음과 같다. 이 평균 구하는 문제를 재귀적 방법으로 구현해 보시오.\n",
    "<br/><br/>\n",
    "※ 풀이조건\n",
    "<ol>\n",
    "    <li>$a=[8,5,3,2,9,1,4,7,6]$ 리스트를 만들어 print 함수를 통해 출력하시오.</li>\n",
    "    <li>재귀 함수를 만들어 평균값을 구하고, 이를 print 함수를 통해 출력하시오.</li>\n",
    "</ol>"
   ]
  },
  {
   "cell_type": "code",
   "execution_count": 1,
   "metadata": {},
   "outputs": [],
   "source": [
    "def avg(x, i):\n",
    "    if i == -1 :\n",
    "        return 0\n",
    "    else:\n",
    "        return x[i] / len(x) + avg(x,i-1)"
   ]
  },
  {
   "cell_type": "code",
   "execution_count": 3,
   "metadata": {},
   "outputs": [
    {
     "name": "stdout",
     "output_type": "stream",
     "text": [
      "[8, 5, 3, 2, 9, 1, 4, 7, 6]\n"
     ]
    },
    {
     "data": {
      "text/plain": [
       "5.0"
      ]
     },
     "execution_count": 3,
     "metadata": {},
     "output_type": "execute_result"
    }
   ],
   "source": [
    "a=[8,5,3,2,9,1,4,7,6]\n",
    "print(a)\n",
    "avg(a, len(a)-1)"
   ]
  },
  {
   "cell_type": "markdown",
   "metadata": {},
   "source": [
    "### 실습 2. Insertion Sort 구현\n",
    "아래 파이썬 코드는 Insertion Sort  를 반복적인 방법으로 구현한 것이다.  이 Insertion Sort 를 재귀적 방법으로 코딩하여 보시오.     \n",
    "그리고, $a=[8,5,3,2,9,1,4,7,6]$ 에 구현한 Insertion Sort 알고리즘을 적용해보시오.   \n",
    "<br/><br/>\n",
    "※ 풀이조건\n",
    "<ol>\n",
    "    <li>$a=[8,5,3,2,9,1,4,7,6]$ 리스트를 만들어 print 함수를 통해 출력하시오.</li>\n",
    "    <li>재귀 함수를 만들어 위 리스트를 정렬하고, 정렬한 결과를 print 함수를 통해 출력하시오.</li>\n",
    "</ol>"
   ]
  },
  {
   "cell_type": "markdown",
   "metadata": {},
   "source": [
    "#### 반복적(iterative) 방법으로 insertion sort 구현"
   ]
  },
  {
   "cell_type": "code",
   "execution_count": 1,
   "metadata": {},
   "outputs": [],
   "source": [
    "def ins_sort(x): \n",
    "    if (len(x) > 2):\n",
    "        x[:-1] = ins_sort(x[:-1])\n",
    "    j = len(x) - 1\n",
    "    while (j > 0 and x[j-1] > x[j]): \n",
    "        x[j-1], x[j] = x[j], x[j-1] \n",
    "        j -= 1\n",
    "    return x"
   ]
  },
  {
   "cell_type": "code",
   "execution_count": 3,
   "metadata": {},
   "outputs": [
    {
     "name": "stdout",
     "output_type": "stream",
     "text": [
      "[8, 5, 3, 2, 9, 1, 4, 7, 6]\n",
      "[1, 2, 3, 4, 5, 6, 7, 8, 9]\n"
     ]
    }
   ],
   "source": [
    "a=[8,5,3,2,9,1,4,7,6]\n",
    "print(a)\n",
    "print(ins_sort(a))\n"
   ]
  },
  {
   "cell_type": "markdown",
   "metadata": {},
   "source": [
    "### 실습 3. Quick Sort\n",
    "#### 다음은 효율적인 Quick Sort 에 대한 설명이다. Quick Sort 를 재귀적 방법으로 파이썬 알고리즘을 구하시오. (2점)\n",
    "\n",
    "The quick sort is an efficient algorithm. \n",
    "To sort $a_1, a_2, . . . , a_n$, this algorithm begins by taking the first element $a_1$ and forming two sublists, the first containing those elements that are less than $a_1$, in the order they arise, and the second containing those elements greater than $a_1$, in the order they arise. Then $a_1$ is put at the end of the first sublist. This procedure is repeated recursively\n",
    "for each sublist, until all sublists contain one item. The ordered list of n items is obtained by combining the sublists of one item in the order they occur.  \n",
    "\n",
    "※ 풀이조건\n",
    "<ol>\n",
    "    <li>0 ~ 20까지, 30개의 정수로 이루어진 랜덤 리스트를 만들고 print 함수를 통해 출력한다.</li>\n",
    "    <li>quick sort를 함수를 만들어 위 리스트를 정렬하고, 정렬한 결과를 print 함수를 통해 출력한다.</li>\n",
    "</ol>"
   ]
  },
  {
   "cell_type": "code",
   "execution_count": 5,
   "metadata": {},
   "outputs": [],
   "source": [
    "import random\n",
    "\n",
    "def split_seq(seq):\n",
    "    length = len(seq)\n",
    "    pivot = length - 1\n",
    "    left = 0\n",
    "    right = pivot - 1\n",
    "    while 1:\n",
    "        while seq[left] < seq[pivot] and left != pivot:\n",
    "            left += 1\n",
    "        if left > right:\n",
    "            break;\n",
    "        while seq[right] >= seq[pivot] and left != right:\n",
    "            right -= 1\n",
    "        if left == right:\n",
    "            break;\n",
    "        seq[left], seq[right] = seq[right], seq[left]\n",
    "        # pivot 보다 큰 원소는 오른쪽으로, 작은 원소는 왼쪽으로 swap\n",
    "    if left != pivot:\n",
    "        seq[pivot], seq[left] = seq[left], seq[pivot]\n",
    "    # split한 순차열의 pivot의 위치를 반환\n",
    "    return seq, left\n",
    "\n",
    "def quick_sort_recursion(seq):\n",
    "    length = len(seq)\n",
    "    if (length > 1):\n",
    "        seq, left = split_seq(seq)\n",
    "        seq[:left] = quick_sort_recursion(seq[:left])\n",
    "        seq[left + 1 :] = quick_sort_recursion(seq[left + 1 :])\n",
    "    return seq"
   ]
  },
  {
   "cell_type": "code",
   "execution_count": 6,
   "metadata": {},
   "outputs": [
    {
     "name": "stdout",
     "output_type": "stream",
     "text": [
      "before numlist :  [4, 2, 19, 16, 5, 21, 8, 12, 20, 15, 12, 10, 17, 2, 12, 21, 0, 21, 10, 17, 13, 6, 16, 18, 16, 5, 16, 6, 18, 11]\n",
      "after numlist :  [0, 2, 2, 4, 5, 5, 6, 6, 8, 10, 10, 11, 12, 12, 12, 13, 15, 16, 16, 16, 16, 17, 17, 18, 18, 19, 20, 21, 21, 21]\n"
     ]
    }
   ],
   "source": [
    "numlist = [random.randint(0,21) for i in range(0,30)]\n",
    "print(\"before numlist : \", numlist)\n",
    "quick_sort_recursion(numlist)\n",
    "print(\"after numlist : \", numlist)"
   ]
  },
  {
   "cell_type": "code",
   "execution_count": null,
   "metadata": {},
   "outputs": [],
   "source": []
  }
 ],
 "metadata": {
  "kernelspec": {
   "display_name": "Python 3",
   "language": "python",
   "name": "python3"
  },
  "language_info": {
   "codemirror_mode": {
    "name": "ipython",
    "version": 3
   },
   "file_extension": ".py",
   "mimetype": "text/x-python",
   "name": "python",
   "nbconvert_exporter": "python",
   "pygments_lexer": "ipython3",
   "version": "3.7.3"
  }
 },
 "nbformat": 4,
 "nbformat_minor": 2
}
