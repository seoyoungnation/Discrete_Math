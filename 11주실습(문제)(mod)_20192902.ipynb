{
 "cells": [
  {
   "cell_type": "markdown",
   "metadata": {},
   "source": [
    "<br/><br/><br/><br/>\n",
    "<h1 style='text-align:center;'>실습 문제"
   ]
  },
  {
   "cell_type": "markdown",
   "metadata": {},
   "source": [
    "<h2>※ 오일러 경로(Euler Path) 찾기 </h2>"
   ]
  },
  {
   "cell_type": "markdown",
   "metadata": {},
   "source": [
    "<h3>오일러 경로는 그래프의 모든 엣지를 한 번씩만 통과하면서 방문하는 경로로 다음과 같은 절차로 구한다.</h3>"
   ]
  },
  {
   "cell_type": "markdown",
   "metadata": {},
   "source": [
    "<ol>\n",
    "    <li>주어진 그래프에서 홀수점의 갯수를 찾는다. 이때, 홀수점이 2개가 아니면 오일러 경로는 없다. 홀수점이 2개인 경우에 2개 중 하나는 시작노드로 다른 하나는 종단노드로 구성한다.</li>\n",
    "<br/><li>주어진 그래프에서 시작노드에서 시작하여 종단노드까지의 시작-종단 경로(백본경로)를 찾는다.</li>\n",
    "<br/><li>그래프에서  이 경로 또는 순환경로(circuit)에 있는 에지들은 제거한 남은 그래프를 만든다.</li>\n",
    "<br/><li>남은 그래프에 대해 시작-종단 백본 경로에 있는 각 노드에 대해 순환 경로(circuit)가 있으면  찾는다. </li>\n",
    "<br/><li>남은 그래프에서 남은 에지가 없어질 때까지  3)과 4)의 과정을 되풀이한다. </li>\n",
    "<br/><li>이때, 오일러 경로는 백본 경로의 시작 노드. 시작노드에서의 순환 경로들, 백본 시작노드에서 백본의 다음 중간 노드까지 경로, 이 백본 중간노드들에서의 순환 경로들,  백본 중간노드에서 백본 다음 중간노드까지의 경로, 이 백본 중간노드에서의 순환경로, ... , 백본 중간노드에서 백본 종단노드까지의 경로,  종단노드에서의 순환 경로들 로 구성된다.  </li>\n",
    "</ol>"
   ]
  },
  {
   "cell_type": "markdown",
   "metadata": {},
   "source": [
    "참고 : [오일러 경로](https://en.wikipedia.org/wiki/Eulerian_path)\n",
    " - 즉, 그래프에서 두 홀수점에 대한 엣지를 제거하면 오일러 회로가 만들어지기 때문에 오일러 회로에 대해 찾는 과정 (3, 4, 5)를 수행하고 마지막에 과정 2에서 수행한 경로를 추가하면 오일러 경로가 완성된다. "
   ]
  },
  {
   "cell_type": "markdown",
   "metadata": {},
   "source": [
    "![alt text](Euler_graph_no.png \"Graph\")  \n",
    "\n",
    "#  \n",
    "\n",
    "### 상기 [그림 7]의  그래프를 예제로 오일러 경로 알고리즘을 살펴 보기로 한다.  \n",
    "그래프를 표현하는 방법으로는 다음과 같이 adjacency list를 사용하며,  파이썬에서는 adjacency list를 dictionary 로 표현한 것이 유용하다.  \n",
    " (예 ; [그림 7] 그래프 경우)\n",
    "~~~python\n",
    "graph = {'S': ['B', 'L', 'N'],\n",
    "       'B': ['F', 'L', 'N', 'S'],\n",
    "       'L': ['B', 'E', 'N', 'S'],\n",
    "       'N': ['B', 'F', 'L', 'S'],\n",
    "       'E': ['F', 'L'],\n",
    "       'F': ['B', 'E', 'N'] }.\n",
    "~~~\n",
    " \n",
    "### 그래프의 에지는 에지를 구성하는 2개의 노드(vertex) 쌍 의 튜플(tuple) 로 표현할 수 있다. \n",
    "즉, 상기 [그림 5]에서 노드 'S' 와 노드 'N' 을 연결하는 에지는 ('S', 'N') 으로 표현한다.  이때, 노드쌍 튜플의 첫번째  노드 'S'들 시작노드 , 두번째 노드 'N' 을 종단 노드로 간주하는 경우에 이 에지를 방향성 에지라 하며, 이를 구분하지 않는 경우를 비방향성 에지라 한다. 방향성 에지에서는 ('S', 'N') 와 ('N', 'S' ) 는 다른 에지이나,  비방향성 에지에서는 둘다 같은 에지이다.\n"
   ]
  },
  {
   "cell_type": "markdown",
   "metadata": {},
   "source": [
    "<h3 style='line-height:150%;'> 1. 상기 dictionary 형태의 adjacency list  로 기술되는 그래프에서 주어진 시작 노드와 종단 노드간의 모든 경로를 찾는 파이썬 함수를 구하고, 시작노드 'B' 에서 종단 노드 'F'  로 끝나는 모든 경로를 구해보시오. </h2>"
   ]
  },
  {
   "cell_type": "markdown",
   "metadata": {},
   "source": [
    "<br/>※ 풀이조건\n",
    "<ol>\n",
    "    <li>DFS 또는 BFS 를 이용하면 쉽게 풀 수 있다.</li>\n",
    "</ol>\n",
    "<br/>※ 제한조건\n",
    "<ol>\n",
    "    <li>반드시 함수를 작성하고 경로를 같이 출력해야 한다. 함수를 작성하지 않고 답만 출력할 시 0점 처리한다.</li>\n",
    "    <li>자유롭게 프로그래밍 한다.</li>\n",
    "</ol>"
   ]
  },
  {
   "cell_type": "code",
   "execution_count": 1,
   "metadata": {},
   "outputs": [],
   "source": [
    "def allPaths_dfs(graph, start, end, path=[]):\n",
    "    path = path + [start]\n",
    "    if start == end:\n",
    "        return [path]\n",
    "    if not start in graph:\n",
    "        return []\n",
    "    paths = []\n",
    "    for node in graph[start]:\n",
    "        if node not in path:\n",
    "            newpaths = allPaths_dfs(graph, node, end, path)\n",
    "            for newpath in newpaths:\n",
    "                paths.append(newpath)\n",
    "    return paths"
   ]
  },
  {
   "cell_type": "code",
   "execution_count": 2,
   "metadata": {},
   "outputs": [
    {
     "data": {
      "text/plain": [
       "[['B', 'F'],\n",
       " ['B', 'L', 'E', 'F'],\n",
       " ['B', 'L', 'N', 'F'],\n",
       " ['B', 'L', 'S', 'N', 'F'],\n",
       " ['B', 'N', 'F'],\n",
       " ['B', 'N', 'L', 'E', 'F'],\n",
       " ['B', 'N', 'S', 'L', 'E', 'F'],\n",
       " ['B', 'S', 'L', 'E', 'F'],\n",
       " ['B', 'S', 'L', 'N', 'F'],\n",
       " ['B', 'S', 'N', 'F'],\n",
       " ['B', 'S', 'N', 'L', 'E', 'F']]"
      ]
     },
     "execution_count": 2,
     "metadata": {},
     "output_type": "execute_result"
    }
   ],
   "source": [
    "graph = {'S': ['B', 'L', 'N'],\n",
    "       'B': ['F', 'L', 'N', 'S'],\n",
    "       'L': ['B', 'E', 'N', 'S'],\n",
    "       'N': ['B', 'F', 'L', 'S'],\n",
    "       'E': ['F', 'L'],\n",
    "       'F': ['B', 'E', 'N'] }\n",
    "\n",
    "allPaths_dfs(graph, 'B', 'F')"
   ]
  },
  {
   "cell_type": "markdown",
   "metadata": {},
   "source": [
    "<h3 style='line-height:150%;'>  2. 상기 dictionary 형태의 adjacency list  로 기술되는 그래프에서,  모든 비방향성 엣지들의 집합을 구하는 파이썬 함수를 코딩하고, 이를 이용하여 [그림 7] 그래프의 모든 비방향성 엣지 집합을 구하시오. (같은 엣지의 경우, 시작 노드의 Alphbet 순서가 앞선 것만을 취하시오. )</h3>\n",
    "\n",
    "#### 참고 : 알파벳 정렬"
   ]
  },
  {
   "cell_type": "code",
   "execution_count": 3,
   "metadata": {},
   "outputs": [
    {
     "data": {
      "text/plain": [
       "[('apple', 1), ('banana', 2), ('grape', 3), ('pineapple', 4)]"
      ]
     },
     "execution_count": 3,
     "metadata": {},
     "output_type": "execute_result"
    }
   ],
   "source": [
    "alphabet_list = [('apple', 1), ('grape', 3), ('banana', 2), ('pineapple', 4)]\n",
    "sorted(alphabet_list, key=lambda x : x[0])"
   ]
  },
  {
   "cell_type": "markdown",
   "metadata": {},
   "source": [
    "#### 참고 : 출력 예시\n",
    "[('B', '?'), ('B', '?'), ('B', '?'), ('B', '?'), ('E', '?'), ('E', '?'), ('F', '?'), ('L', '?'), ('L', '?'), ('N', '?')]"
   ]
  },
  {
   "cell_type": "markdown",
   "metadata": {},
   "source": [
    "<br/>※ 풀이조건\n",
    "<ol>\n",
    "    <li>위 출력 예시 형식과 동일하게 출력이 되어야 한다. (?에 대한 값은 스스로 풀어본다)</li>\n",
    "</ol>\n",
    "<br/>※ 제한조건\n",
    "<ol>\n",
    "    <li>반드시 함수를 작성하고 엣지 집합을 같이 출력해야 한다. 함수를 작성하지 않고 답만 출력할 시 0점 처리한다.</li>\n",
    "    <li>자유롭게 프로그래밍 한다.</li>\n",
    "</ol>"
   ]
  },
  {
   "cell_type": "code",
   "execution_count": 4,
   "metadata": {},
   "outputs": [
    {
     "ename": "SyntaxError",
     "evalue": "invalid syntax (<ipython-input-4-4ff884a2f706>, line 1)",
     "output_type": "error",
     "traceback": [
      "\u001b[1;36m  File \u001b[1;32m\"<ipython-input-4-4ff884a2f706>\"\u001b[1;36m, line \u001b[1;32m1\u001b[0m\n\u001b[1;33m    def nondirectional()\u001b[0m\n\u001b[1;37m                        ^\u001b[0m\n\u001b[1;31mSyntaxError\u001b[0m\u001b[1;31m:\u001b[0m invalid syntax\n"
     ]
    }
   ],
   "source": [
    "def nondirectional()"
   ]
  },
  {
   "cell_type": "code",
   "execution_count": 5,
   "metadata": {},
   "outputs": [],
   "source": [
    "graph = {'S': ['B', 'L', 'N'],\n",
    "       'B': ['F', 'L', 'N', 'S'],\n",
    "       'L': ['B', 'E', 'N', 'S'],\n",
    "       'N': ['B', 'F', 'L', 'S'],\n",
    "       'E': ['F', 'L'],\n",
    "       'F': ['B', 'E', 'N'] }"
   ]
  },
  {
   "cell_type": "markdown",
   "metadata": {},
   "source": [
    "<h3 style='line-height:150%;'> 3. 홀수점이 2개인 그래프에서 홀수점에서 시작해서 그래프의 모든 에지를 한번만 거쳐 다른 홀수점으로 끝나는 경로인 오일러 경로를 구하는 파이썬 함수를 코딩하고, 이를 이용하여 상기 [그림 7] 그래프에 대해 노드 'S'에서 시작하여 노드 'F' 로 끝나는 오일러 경로를 구해보시오. (2점)</h3>\n",
    "\n",
    "(아래 단계를 차근차근 풀어보면 문제를 쉽게 풀 수 있다.)"
   ]
  },
  {
   "cell_type": "markdown",
   "metadata": {},
   "source": [
    "(위 [그림 7]에 대한 그래프를 직접 그리면서 수행하려면 아래 위치 정보 및 그리기 함수를 이용한다.)"
   ]
  },
  {
   "cell_type": "code",
   "execution_count": 6,
   "metadata": {},
   "outputs": [],
   "source": [
    "import networkx as nx\n",
    "import matplotlib.pyplot as plt\n",
    "def draw_colored_graph(graph, color = None, pos = None) :\n",
    "    G = nx.Graph()\n",
    "    nodes = graph.keys()\n",
    "    edges = [(src, dst) for src in graph for dst in graph[src] ]\n",
    "    G.add_nodes_from(nodes)\n",
    "    G.add_edges_from(edges)\n",
    "\n",
    "    \n",
    "    plt.figure(figsize=(10, 10))\n",
    "    if not pos : pos=nx.spring_layout(G)\n",
    "    if not color : color = 'cyan'\n",
    "    nx.draw_networkx_nodes(G, pos=pos, node_size=2000, node_color=color)\n",
    "    nx.draw_networkx_edges(G, pos=pos)\n",
    "    nx.draw_networkx_labels(G, pos=pos, font_size=30)\n",
    "    plt.show()"
   ]
  },
  {
   "cell_type": "code",
   "execution_count": 7,
   "metadata": {},
   "outputs": [],
   "source": [
    "B,E,F,L,N,S = 'BEFLNS'\n",
    "pos = {B:(2,2), E:(1,4), F:(2.5, 4), L:(0,2), N:(3, 0), S:(0, 0.5)}"
   ]
  },
  {
   "cell_type": "markdown",
   "metadata": {},
   "source": [
    "#### 3-1) [그림 7]에 대한 그래프를 dictionary 형태로 만드시오. "
   ]
  },
  {
   "cell_type": "code",
   "execution_count": 8,
   "metadata": {},
   "outputs": [],
   "source": [
    "graph = { 'B' : [ 'F', 'L', 'N', 'S'] ,\n",
    "        'E' : [ 'F', 'L' ],\n",
    "        'F' : [ 'B', 'E', 'N' ],\n",
    "        'L' : [ 'B', 'E', 'N', 'S' ],\n",
    "        'N' : [ 'B', 'F', 'L', 'S' ],\n",
    "        'S' : [ 'B', 'L', 'N'] }"
   ]
  },
  {
   "cell_type": "markdown",
   "metadata": {},
   "source": [
    "#### 3-2) 그래프에서 엣지가 홀수인 점을 찾는 함수를 만들어보시오."
   ]
  },
  {
   "cell_type": "code",
   "execution_count": 9,
   "metadata": {},
   "outputs": [],
   "source": [
    "def find_odd_points(graph):\n",
    "    odd_points = []\n",
    "    for point in graph:\n",
    "        if len(graph[point]) % 2 == 1:\n",
    "            odd_points.append(point)\n",
    "    return odd_points"
   ]
  },
  {
   "cell_type": "markdown",
   "metadata": {},
   "source": [
    "#### 3-3) 아래 출력 예시와 같이 상기 홀수점(노드)을 찾는 함수가 제대로 동작하는 지를 점검하시오."
   ]
  },
  {
   "cell_type": "markdown",
   "metadata": {},
   "source": [
    "출력예시:\n",
    "\n",
    "In[] : find_odd_points(graph)\n",
    "\n",
    "out[] : ['S', 'F']"
   ]
  },
  {
   "cell_type": "code",
   "execution_count": 10,
   "metadata": {},
   "outputs": [
    {
     "data": {
      "text/plain": [
       "['F', 'S']"
      ]
     },
     "execution_count": 10,
     "metadata": {},
     "output_type": "execute_result"
    }
   ],
   "source": [
    "find_odd_points(graph)"
   ]
  },
  {
   "cell_type": "markdown",
   "metadata": {},
   "source": [
    "#### 3-4) 시작점(노드) 및 종단점(노드)을 임의로 정하고 시작노드에서 종단노드까지의 경로, 즉 시작-종단 경로(백본 경로)를 1개만 찾아보시오. "
   ]
  },
  {
   "cell_type": "code",
   "execution_count": 11,
   "metadata": {},
   "outputs": [],
   "source": [
    "def find_path(graph, start, end, path=[]):\n",
    "        path = path + [start]\n",
    "        \n",
    "        if start == end:\n",
    "            return path\n",
    "        if not start in graph :\n",
    "            return None\n",
    "        for node in graph[start]:\n",
    "            for comp1 in node:\n",
    "                if comp1 not in path:\n",
    "                    newpath = find_path(graph, comp1, end, path)\n",
    "                    if newpath: \n",
    "                        return newpath\n",
    "        return None \n",
    "    "
   ]
  },
  {
   "cell_type": "code",
   "execution_count": 12,
   "metadata": {},
   "outputs": [
    {
     "data": {
      "text/plain": [
       "['S', 'B', 'F']"
      ]
     },
     "execution_count": 12,
     "metadata": {},
     "output_type": "execute_result"
    }
   ],
   "source": [
    "path = find_path(graph, 'S', 'F')\n",
    "path"
   ]
  },
  {
   "cell_type": "markdown",
   "metadata": {},
   "source": [
    "#### 3-5) 그래프에서 위에서 찾은 경로를 제거한 그래프를 만드시오."
   ]
  },
  {
   "cell_type": "markdown",
   "metadata": {},
   "source": [
    "상기 결과는 [그림 7] 그래프에서 백본 경로 ['S', 'B', 'F'] 가 제거된, 다음 [그림 8] 그래프 표현이다.\n",
    "![alt text](./graph_no_backbone.png)"
   ]
  },
  {
   "cell_type": "markdown",
   "metadata": {},
   "source": [
    "#### 3-6) 백본 경로 상의 노드에 대해 순환 경로(circuit)가 있으면 1개만  찾으시오.\n",
    "(순환 경로란 출발 노드와 종단 노드가 동일한 경로를 말한다)"
   ]
  },
  {
   "cell_type": "markdown",
   "metadata": {},
   "source": [
    "예를 들어 회로 ['S', 'L', 'B', 'N', 'S'] 는 다음 [그림 9]의 빨간색 회로 부분이다.\n",
    "![Altext](./circuit_graph_no_backbone.png)\n",
    "\n",
    "[그림 9]에서 빨간색 부분을 제거하면 다음과 [그림 10]의 그래프이며, 이 그래프의 표현은 아래와 같다.\n",
    "\n",
    "{S': [], 'B': [], 'L': ['E', 'N'], 'N': ['F', 'L'], 'E': ['F', 'L'], 'F': ['E', 'N']}\n",
    "![Altext](./graph_circuit_removed.png)"
   ]
  },
  {
   "cell_type": "markdown",
   "metadata": {},
   "source": [
    "#### 3-7) 찾은 순환 경로(circuit)를 그래프에서 제거하시오.\n",
    "(이전에 만든 함수를 이용한다.)"
   ]
  },
  {
   "cell_type": "markdown",
   "metadata": {},
   "source": [
    "#### 3-8) 위에서 찾은 순환 경로 상의 노드에 대해 순환 경로(circuit)가 있으면 1개만 찾으시오"
   ]
  },
  {
   "cell_type": "markdown",
   "metadata": {},
   "source": [
    "#### 3-9) 찾은 순환 경로(circuit)를 그래프에서 제거하시오."
   ]
  },
  {
   "cell_type": "markdown",
   "metadata": {},
   "source": [
    "#### 3-10) 8, 9 과정을 순환 경로가 없을 때 까지 반복하고, 그 동안 찾았던 순환 회로 및 백본 경로를 조합하여 오일러 경로를 만들어보시오."
   ]
  },
  {
   "cell_type": "markdown",
   "metadata": {},
   "source": [
    "### 3-11) 위에서 구현된 함수 및 코드들을 이용하여 오일러 경로 찾기 함수 fine_Euler_path를 구현하시오.¶"
   ]
  },
  {
   "cell_type": "markdown",
   "metadata": {},
   "source": [
    "#### 실행 예시\n",
    "find_Euler_path(graph)"
   ]
  },
  {
   "cell_type": "markdown",
   "metadata": {},
   "source": [
    "#### 출력 예시\n",
    "['S', 'L', 'B', 'N', 'S', 'B', 'F', 'E', 'L', 'N', 'F']"
   ]
  },
  {
   "cell_type": "markdown",
   "metadata": {},
   "source": [
    "#### 출력 예시 설명\n",
    "아래 그림은 홀수점 'S'에서 시작하여  'B', 'F' 순으로 백본 경로를 진행할 때, 각 백본 경로의 시작 노드점 'S' 에서의 순환 경로 ['S', 'L', 'B', 'N', 'S'], 백본 경로의 중간노드, 'B', 백본 경로의 종단노드'F'에서의 순환 경로 ['F', 'E', 'L', 'N', 'F'] 로 구성된 오일러 경로를 나타낸다. \n",
    "![Altext](./resulting_Euler_path_.png)"
   ]
  },
  {
   "cell_type": "markdown",
   "metadata": {},
   "source": [
    "<br/>※ 풀이조건\n",
    "<ol>\n",
    "    <li>1~11단계를 차근차근 팀원과 소통하면서 푼다.</li>\n",
    "    <li>11단계의 실행 예시에 알맞게 실행했을 때 정답이 출력되도록 푼다.</li>\n",
    "</ol>\n",
    "<br/>※ 제한조건\n",
    "<ol>\n",
    "    <li>(중요) 위 [그림9]와 동일한 경로를 출력하지 않아도 된다.</li>\n",
    "    <li>1~11 번 문제를 모두 푼 경우 2점으로 채점한다.</li>\n",
    "    <li>결과가 틀렸더라도 1번부터 11번까지 모든 과정에 대해 성실히 노력한 흔적이 있으면 1.5점으로 채점한다.</li>\n",
    "    <li>11번 문제만 푼 경우 1점으로 채점한다.</li>\n",
    "    <li>networkx, matplotlib 파이썬 패키지를 제외하고 다른 패키지 및 라이브러리를 import 할 경우 0점 처리한다.</li>\n",
    "</ol>"
   ]
  }
 ],
 "metadata": {
  "kernelspec": {
   "display_name": "Python 3",
   "language": "python",
   "name": "python3"
  },
  "language_info": {
   "codemirror_mode": {
    "name": "ipython",
    "version": 3
   },
   "file_extension": ".py",
   "mimetype": "text/x-python",
   "name": "python",
   "nbconvert_exporter": "python",
   "pygments_lexer": "ipython3",
   "version": "3.7.3"
  }
 },
 "nbformat": 4,
 "nbformat_minor": 2
}
