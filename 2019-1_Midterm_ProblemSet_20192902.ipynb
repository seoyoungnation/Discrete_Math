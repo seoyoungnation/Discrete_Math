{
 "cells": [
  {
   "cell_type": "markdown",
   "metadata": {},
   "source": [
    "## 1.  정수들을 포함하는  list 와 정수 x 가 주어졌을 때,  해당 정수가 주어진 정수 리스트에 있는 지, 있으면 리스트에서  몇번째에 처음 나타나는 지를 나타내는 정수값을 복귀하고, 그러지 않으면, \"찾을 수없다.\"  라는 스트링을 출력하는   함수를 파이썬으로 구현하고자 한다.   (예;  [ 5,9,3,4,7,9,3] 에서 3은 3번째에 처음 나타나므로 위치하므로, 3을 복귀함)\n",
    "\n",
    "### (a)(10). 반복적인 루프를 사용하여 구현하여 보시오.  "
   ]
  },
  {
   "cell_type": "code",
   "execution_count": 1,
   "metadata": {},
   "outputs": [],
   "source": [
    "def loop_search(a, x):\n",
    "    for i in range(0, len(a), 1):\n",
    "        if (a[i] == x):\n",
    "            return i+1\n",
    "    print(\"찾을 수 없다\")"
   ]
  },
  {
   "cell_type": "code",
   "execution_count": 2,
   "metadata": {},
   "outputs": [],
   "source": [
    "a = [5, 9, 3, 4, 7, 9, 3]\n",
    "loop_search(a, 3)"
   ]
  },
  {
   "cell_type": "markdown",
   "metadata": {},
   "source": [
    "### b(10). 주어진 정수 리스트를 왼쪽 반, 오른쪽 반으로 분할하여 각 분할에서  탐색하도록 지원하는 재귀적(recursive) 방법으로 구현하여 보시오.  찾을 수없으면, \"찾을 수없다.\"  라는 스트링을 출력하여야 함. "
   ]
  },
  {
   "cell_type": "code",
   "execution_count": 3,
   "metadata": {},
   "outputs": [
    {
     "data": {
      "text/plain": [
       "3"
      ]
     },
     "execution_count": 3,
     "metadata": {},
     "output_type": "execute_result"
    }
   ],
   "source": [
    "def recursive_search(x, num, idx = 1):\n",
    "    if len(x) < 2:\n",
    "        return (x[0] == num), idx\n",
    "    mid = len(x) // 2\n",
    "    left, leftIdx = recursive_search(x[:mid], num, idx)\n",
    "    right, rightIdx = recursive_search(x[mid:], num, idx+mid)\n",
    "    if (left):\n",
    "        return left, leftIdx\n",
    "    elif(right):\n",
    "        return right, rightIdx\n",
    "    else:\n",
    "        return False, \"찾을 수 없다\"\n",
    "\n",
    "a = [5, 9, 3, 4, 7, 9, 3]\n",
    "_, x = recursive_search(a, 3)\n",
    "x"
   ]
  },
  {
   "cell_type": "markdown",
   "metadata": {},
   "source": [
    "### c(5).  0부터 9 까지의 정수중 7개를 랜덤하게 생성하여 만든 정수 리스트에 대해, '5' 가 처음 어느 위치에 나타나는 지를 상기 문제 (a)와 (b)에서 만든 파이썬 함수를 이용하여 점검하여 보시오. "
   ]
  },
  {
   "cell_type": "code",
   "execution_count": 4,
   "metadata": {},
   "outputs": [
    {
     "name": "stdout",
     "output_type": "stream",
     "text": [
      "[5, 1, 4, 0, 0, 2, 1, 2]\n",
      "(a) 함수 사용 결과값: 1\n",
      "(b) 함수 사용 결과값: 1\n"
     ]
    }
   ],
   "source": [
    "import random\n",
    "l = [random.randint(0, 9) for x in range(8)]\n",
    "print(l)\n",
    "print(\"(a) 함수 사용 결과값:\", loop_search(l,5))\n",
    "_, x = recursive_search(l,5)\n",
    "print(\"(b) 함수 사용 결과값:\", x)"
   ]
  },
  {
   "cell_type": "markdown",
   "metadata": {},
   "source": [
    "## 2.  다음 문제에 답하시오.\n",
    "### (a) (10).   동전을 던져 앞면이 나올 확률이 p ( 0 <= p <= 1) 라고 한다.  n번 동전을 던져 r 번 이상 앞면이 나올 확률을 구하는 파이썬 함수를 코딩하시오. "
   ]
  },
  {
   "cell_type": "code",
   "execution_count": 5,
   "metadata": {},
   "outputs": [],
   "source": [
    "def fact(n):\n",
    "    if n == 1:\n",
    "        return 1\n",
    "    return n * fact(n-1)\n",
    "\n",
    "def coin(p,n,r):\n",
    "    q = 1 - p\n",
    "    if (r == n):\n",
    "        return p ** n\n",
    "    prob = fact(n) / (fact(r) * fact(n-r)) * (p ** r) * (q ** (n-r))\n",
    "    return prob + coin(p,n,r+1)"
   ]
  },
  {
   "cell_type": "code",
   "execution_count": 6,
   "metadata": {},
   "outputs": [
    {
     "data": {
      "text/plain": [
       "0.875"
      ]
     },
     "execution_count": 6,
     "metadata": {},
     "output_type": "execute_result"
    }
   ],
   "source": [
    "coin(0.5,3,1)"
   ]
  },
  {
   "cell_type": "markdown",
   "metadata": {},
   "source": [
    "###  동전을 던져 앞면이 나올 확률이 0.51 라 한다.  \n",
    "### (b)(5)동전을 한번 던져 앞면이 나오면 승리한다고 할 때,   승리할 확률은 얼마인가?\n",
    "### (c)(10) 동전을 여러번 던져 앞면이 나오는 횟수가 과반이면(예; 100번 던지는 경우, 51회 이상) 승리하다고 하면,  승률이 70%을 넘길려면 최소 동전을 몇회 던져야 하는 지를 파이썬 코딩하여 구해보시오.          "
   ]
  },
  {
   "cell_type": "code",
   "execution_count": 7,
   "metadata": {},
   "outputs": [
    {
     "name": "stdout",
     "output_type": "stream",
     "text": [
      "동전을 한번 던졌을 때 승리할 확률 = 0.51\n"
     ]
    }
   ],
   "source": [
    "print(\"동전을 한번 던졌을 때 승리할 확률 =\", coin(0.51, 1, 1))"
   ]
  },
  {
   "cell_type": "code",
   "execution_count": 8,
   "metadata": {},
   "outputs": [],
   "source": [
    "def win(n=3):\n",
    "    while (n > 2):\n",
    "        num = n // 2 + 1\n",
    "        prob = coin(0.51, n, num)\n",
    "        if (prob > 0.7) :\n",
    "            return n\n",
    "        else :\n",
    "            n+=1"
   ]
  },
  {
   "cell_type": "code",
   "execution_count": 9,
   "metadata": {},
   "outputs": [
    {
     "name": "stdout",
     "output_type": "stream",
     "text": [
      "최소 던져야 하는 횟수 = 687\n"
     ]
    }
   ],
   "source": [
    "num = win()\n",
    "print(\"최소 던져야 하는 횟수 =\", num)"
   ]
  },
  {
   "cell_type": "markdown",
   "metadata": {},
   "source": [
    "## 3.  다음 문제를 푸시오.\n",
    "### (a)(10) n 개의 주어진 정수 $(k_1, k_2, ...., k_n )$ 의 평균을 r계산하는 파이썬 함수 코드를 작성하시오."
   ]
  },
  {
   "cell_type": "code",
   "execution_count": 10,
   "metadata": {},
   "outputs": [],
   "source": [
    "def average(a):\n",
    "    sum = 0\n",
    "    for i in range (0, len(a), 1):\n",
    "        sum += a[i]\n",
    "    return sum / len(a)"
   ]
  },
  {
   "cell_type": "markdown",
   "metadata": {},
   "source": [
    "### (b)(5)  a=(9,3,7,9,2,5,8)에 대해 ( a)에서 코딩한 평균 구하는 함수를 적용하여 보시오. "
   ]
  },
  {
   "cell_type": "code",
   "execution_count": 11,
   "metadata": {},
   "outputs": [
    {
     "name": "stdout",
     "output_type": "stream",
     "text": [
      "6.142857142857143\n"
     ]
    }
   ],
   "source": [
    "a = (9, 3, 7, 9, 2, 5, 8)\n",
    "print(average(a))"
   ]
  },
  {
   "cell_type": "markdown",
   "metadata": {},
   "source": [
    "### (c)(10) 상기 평균 구하는 파이썬 함수를 재귀적으로 구하는 파이썬 프로그램을 작성하시오. "
   ]
  },
  {
   "cell_type": "code",
   "execution_count": 12,
   "metadata": {},
   "outputs": [],
   "source": [
    "def recursive_average(a, n):\n",
    "    if n == 0:\n",
    "        return a[n]\n",
    "    return (a[n] + (recursive_average(a, n-1) * n)) / (n+1)"
   ]
  },
  {
   "cell_type": "code",
   "execution_count": 13,
   "metadata": {},
   "outputs": [
    {
     "name": "stdout",
     "output_type": "stream",
     "text": [
      "6.142857142857143\n"
     ]
    }
   ],
   "source": [
    "a = (9, 3, 7, 9, 2, 5, 8)\n",
    "print(recursive_average(a, len(a)-1))"
   ]
  },
  {
   "cell_type": "markdown",
   "metadata": {},
   "source": [
    "## 4.  정수의 부분 집합 $X \\subseteq Z $ 이 다음과 같이 재귀적으로 정의된다. \n",
    "###  B.  $4 \\in X. $\n",
    "###  R1.   If $ x \\in X$, then $x-12 \\in X.$\n",
    "###  R2.    If $ x \\in X$, then $x^2 \\in X.$\n",
    "\n",
    "### 집합 X 를 생성하는 알고리즘을 재귀적으로 파이썬으로 작성 하고, 집합 $X$ 의 모든 원소들이 4 로 나누어진다는 것을 증명하고자 한다.  "
   ]
  },
  {
   "cell_type": "markdown",
   "metadata": {},
   "source": [
    "### (a) (5).  원소 4를 포함하는 집합  X 를 생성하는  파이썬 코드는? "
   ]
  },
  {
   "cell_type": "code",
   "execution_count": 14,
   "metadata": {},
   "outputs": [
    {
     "data": {
      "text/plain": [
       "{4}"
      ]
     },
     "execution_count": 14,
     "metadata": {},
     "output_type": "execute_result"
    }
   ],
   "source": [
    "def makeSet(x = set([])):\n",
    "    x.add(4)\n",
    "    return x\n",
    "\n",
    "makeSet()"
   ]
  },
  {
   "cell_type": "markdown",
   "metadata": {},
   "source": [
    "### (b) (10). 다음을 만족하는 파이썬 함수 Set4(n)을 작성하시오.\n",
    "###  If $n=0$, then 원소 4 만을 포함하는 집합 X 복귀. \n",
    "###  If $n $ is an integer and $ n \\gt 0 $,  then Set4(n-1) 이 복귀하는 집합 X 의 모든 원소에 대해 상기 R1 및 R2 를 적용하여, 그 결과를 원소로 추가하여 확대한 집합 X 를 복귀 .\n",
    "\n",
    "### 예를 들어, Set4(0) 은 X={4} 를 복귀. \n",
    "### Set4(1)는 4-12=-8, 4*4=16 를 포함한 집합 X ={-8,4,16} 를 복귀.\n",
    "### Set4(2)는 4-12=-8, 4*4=16, -8-12=-20, (-8)*(-8)=64, 16-12=4, 16*16=256 를 포함한 집합 X ={-20, -8,4,16, 64, 256} 를 복귀.\n"
   ]
  },
  {
   "cell_type": "code",
   "execution_count": 15,
   "metadata": {},
   "outputs": [
    {
     "name": "stdout",
     "output_type": "stream",
     "text": [
      "{-8, 16, 4}\n",
      "{64, 256, 4, -20, 16, -8}\n"
     ]
    }
   ],
   "source": [
    "def Set4(n):\n",
    "    if n == 0 :\n",
    "        return set([4])\n",
    "    \n",
    "    elif n > 0:\n",
    "        res = Set4(n-1)\n",
    "        temp = list(res)\n",
    "        for x in temp:\n",
    "            res.add(x-12)\n",
    "            res.add(x**2)\n",
    "        return res\n",
    "    \n",
    "    else:\n",
    "        return 0\n",
    "\n",
    "print(Set4(1))\n",
    "print(Set4(2))"
   ]
  },
  {
   "cell_type": "markdown",
   "metadata": {},
   "source": [
    "### (c)(10). 상기 Set4(n)이 복귀하는 집합 X 의 모든 원소는 4의 배수일 때,'True' 를 복귀하는 파이썬 함수를 작성하고, n=3 일 때 실행하여  'True' 가  나오는 지를 확인하시오. "
   ]
  },
  {
   "cell_type": "code",
   "execution_count": 16,
   "metadata": {},
   "outputs": [],
   "source": [
    "def check(res):\n",
    "    temp = list(res)\n",
    "    for x in temp:\n",
    "        if (x % 4 != 0) :\n",
    "            return False\n",
    "    return True"
   ]
  },
  {
   "cell_type": "code",
   "execution_count": 17,
   "metadata": {},
   "outputs": [
    {
     "data": {
      "text/plain": [
       "True"
      ]
     },
     "execution_count": 17,
     "metadata": {},
     "output_type": "execute_result"
    }
   ],
   "source": [
    "check(Set4(3))"
   ]
  }
 ],
 "metadata": {
  "kernelspec": {
   "display_name": "Python 3",
   "language": "python",
   "name": "python3"
  },
  "language_info": {
   "codemirror_mode": {
    "name": "ipython",
    "version": 3
   },
   "file_extension": ".py",
   "mimetype": "text/x-python",
   "name": "python",
   "nbconvert_exporter": "python",
   "pygments_lexer": "ipython3",
   "version": "3.7.3"
  }
 },
 "nbformat": 4,
 "nbformat_minor": 2
}
