{
 "cells": [
  {
   "cell_type": "markdown",
   "metadata": {},
   "source": [
    "<h1>실습문제</h1>"
   ]
  },
  {
   "cell_type": "markdown",
   "metadata": {},
   "source": [
    "<h2>실습 6.1</h2><br/>  집합 { 'a', 'b', 'c', 'd', 'e' } 에서 3개를 뽑아 사전식 순서 (lexicographic order)로 늘어 놓는 모든 경우의 수를  구하고 또한 총 경우의 수가 얼마인지를 나타내는 파이썬 코드를 작성하시오.  \n",
    "<br/><br/>\n",
    "※ 풀이조건\n",
    "<ol>\n",
    "    <li>먼저 집합 { 'a', 'b', 'c', 'd', 'e' }를 출력하시오</li>\n",
    "    <li>사전식 순서로 늘어 놓은 모든 조합을 출력하시오</li>\n",
    "    <li>총 경우의 수가 얼마인지 출력하시오 (예시 : 총 경우의 수는 n가지입니다)</li>\n",
    "</ol>\n",
    "\n",
    "※ 제한조건\n",
    "<ol>\n",
    "    <li>2번 풀이 조건에서 각 조합들의 출력 순서는 자유롭게 한다. 단, 경우의 수와 출력되는 조합들의 개수는 같아야 한다.</li>\n",
    "    <li>기타 제한조건은 없다. itertools를 import하여 사용해도 된다.</li>\n",
    "</ol>"
   ]
  },
  {
   "cell_type": "code",
   "execution_count": 2,
   "metadata": {},
   "outputs": [
    {
     "name": "stdout",
     "output_type": "stream",
     "text": [
      "원래의 집합: {'a', 'e', 'c', 'd', 'b'}\n",
      "Permutation의 사전식 정렬: [('a', 'b', 'c'), ('a', 'b', 'd'), ('a', 'b', 'e'), ('a', 'c', 'b'), ('a', 'c', 'd'), ('a', 'c', 'e'), ('a', 'd', 'b'), ('a', 'd', 'c'), ('a', 'd', 'e'), ('a', 'e', 'b'), ('a', 'e', 'c'), ('a', 'e', 'd'), ('b', 'a', 'c'), ('b', 'a', 'd'), ('b', 'a', 'e'), ('b', 'c', 'a'), ('b', 'c', 'd'), ('b', 'c', 'e'), ('b', 'd', 'a'), ('b', 'd', 'c'), ('b', 'd', 'e'), ('b', 'e', 'a'), ('b', 'e', 'c'), ('b', 'e', 'd'), ('c', 'a', 'b'), ('c', 'a', 'd'), ('c', 'a', 'e'), ('c', 'b', 'a'), ('c', 'b', 'd'), ('c', 'b', 'e'), ('c', 'd', 'a'), ('c', 'd', 'b'), ('c', 'd', 'e'), ('c', 'e', 'a'), ('c', 'e', 'b'), ('c', 'e', 'd'), ('d', 'a', 'b'), ('d', 'a', 'c'), ('d', 'a', 'e'), ('d', 'b', 'a'), ('d', 'b', 'c'), ('d', 'b', 'e'), ('d', 'c', 'a'), ('d', 'c', 'b'), ('d', 'c', 'e'), ('d', 'e', 'a'), ('d', 'e', 'b'), ('d', 'e', 'c'), ('e', 'a', 'b'), ('e', 'a', 'c'), ('e', 'a', 'd'), ('e', 'b', 'a'), ('e', 'b', 'c'), ('e', 'b', 'd'), ('e', 'c', 'a'), ('e', 'c', 'b'), ('e', 'c', 'd'), ('e', 'd', 'a'), ('e', 'd', 'b'), ('e', 'd', 'c')]\n",
      "모든 경우의 수:  60\n"
     ]
    }
   ],
   "source": [
    "import itertools as it\n",
    "\n",
    "set1 = {'a', 'b', 'c', 'd', 'e'}\n",
    "tuple1 = tuple(set1)\n",
    "a = it.permutations(tuple1,3)\n",
    "b = list(a)\n",
    "b.sort()\n",
    "\n",
    "print(\"원래의 집합:\", set1)\n",
    "print(\"Permutation의 사전식 정렬:\", b)\n",
    "print(\"모든 경우의 수: \", len(b))"
   ]
  },
  {
   "cell_type": "markdown",
   "metadata": {},
   "source": [
    "<br/>\n",
    "<h2>실습 6.2</h2><br/> <b> pigeonhole 정리를 이용하여 정렬 알고리즘을 만들려고 한다. 아래 pigeonsort 함수에서 holes 리스트를 이용하여 인자로 제공한 [7,3,4,2,6,10] 리스트를 정렬해보시오.</b>\n",
    "<br/><br/>\n",
    "※ 풀이조건\n",
    "<ol>\n",
    "    <li>리스트 [7,3,4,2,6,10]를 만들어 pigeonsort 함수에 인자로 제공하고 실행한다.</li>\n",
    "</ol>\n",
    "\n",
    "※ 제한조건\n",
    "<ol>\n",
    "    <li>while 문 내에서만 코드를 작성한다. 만일 밖에 어떠한 코드라도 작성 시 정답을 맞추어도 0.5점 감점한다.</li>\n",
    "    <li>whlie 문 내에서 holes를 기술한 코드가 있어야 한다. 없을 시 정답을 맞추어도 0.5점 감점한다.</li>\n",
    "    <li>pigeonsort 함수 내 print 코드를 수정할 시 0점 처리한다.</li>\n",
    "</ol>"
   ]
  },
  {
   "cell_type": "code",
   "execution_count": 7,
   "metadata": {},
   "outputs": [],
   "source": [
    "def pigeonsort(values):\n",
    "    # size of range of values in the list (ie, number of pigeonholes we need)\n",
    "    _min = min(values)\n",
    "    _max = max(values)\n",
    "    _range = _max - _min + 1\n",
    "\n",
    "    # pigeonholes\n",
    "    '''holes = [0 for i in range(_range)]'''\n",
    "    holes = [0] * _range\n",
    "    \n",
    "    # populate the holes\n",
    "    for x in values:\n",
    "        holes[x - _min] += 1\n",
    "\n",
    "    # new sorted list, putting elements back to save space\n",
    "    i = 0\n",
    "    print(\"Before the sorting --\")\n",
    "    print(holes, \"\\n\", values)\n",
    "    for count in range(_range):\n",
    "        while holes[count] > 0:\n",
    "            # copy all elements from each hole\n",
    "            holes[count] -= 1\n",
    "            values[i] = count + _min\n",
    "            i += 1\n",
    "            pass\n",
    "    print(\"After the sorting --\")\n",
    "    print(holes, \"\\n\", values)\n",
    "    return values"
   ]
  },
  {
   "cell_type": "code",
   "execution_count": 8,
   "metadata": {},
   "outputs": [
    {
     "name": "stdout",
     "output_type": "stream",
     "text": [
      "Before the sorting --\n",
      "[1, 1, 1, 0, 1, 1, 0, 0, 1] \n",
      " [7, 3, 4, 2, 6, 10]\n",
      "After the sorting --\n",
      "[0, 0, 0, 0, 0, 0, 0, 0, 0] \n",
      " [2, 3, 4, 6, 7, 10]\n"
     ]
    },
    {
     "data": {
      "text/plain": [
       "[2, 3, 4, 6, 7, 10]"
      ]
     },
     "execution_count": 8,
     "metadata": {},
     "output_type": "execute_result"
    }
   ],
   "source": [
    "a = [7,3,4,2,6,10]\n",
    "pigeonsort(a)"
   ]
  },
  {
   "cell_type": "markdown",
   "metadata": {},
   "source": [
    "<br/>\n",
    "<h2>실습 6.3</h2><br/> <b> 위에서 만든 pigeonsort 함수를 이용하여 랜덤으로 생성된 1보다 크고 100보다 작은 '짝수' 원소 30개를 가진 리스트를 정렬하려고 한다. <br/>이때, 리스트를 만들 때 generator를 이용하려고 한다.</b>\n",
    "<br/><br/>\n",
    "※ 풀이조건\n",
    "<ol>\n",
    "    <li>먼저 generator 객체를 반환하는 함수를 만드시오.</li>\n",
    "    <li>위 함수를 이용하여 원소 개수가 30개인 랜덤 리스트를 생성하고 결과를 출력하시오.</li>\n",
    "    <li>앞서 만든 pigeonsort 함수를 이용하여 랜덤 리스트를 정렬하고 결과를 출력하시오.</li>\n",
    "</ol>\n",
    "\n",
    "※ 제한조건\n",
    "<ol>\n",
    "    <li>generator 함수 이름을 gr로 하고, 내부에 yield 문을 작성한다. 둘 중 하나라도 아닐 시 0.5점 감점한다.</li>\n",
    "    <li>랜덤으로 생성한 리스트의 원소가 짝수 및 자연수가 아닐 시 0.5점 감점한다.</li>\n",
    "    <li>gr로 리스트를 생성할 때 gr 함수에 있는 yield 문이 호출되어야 한다. 호출되지 않을 시 0점 처리한다.</li>\n",
    "    <li>pigeon 함수로 정렬을 수행해야 한다. pigeon 함수가 호출되지 않을 시 0점 처리한다.</li>\n",
    "</ol>"
   ]
  },
  {
   "cell_type": "code",
   "execution_count": 3,
   "metadata": {},
   "outputs": [],
   "source": [
    "import random\n",
    "\n",
    "def gr():\n",
    "    while True :\n",
    "        n = random.randint(1, 100)\n",
    "        if n % 2 == 0 :\n",
    "            yield n\n",
    "            \n",
    "def pigeonsort(values):\n",
    "    # size of range of values in the list (ie, number of pigeonholes we need)\n",
    "    _min = min(values)\n",
    "    _max = max(values)\n",
    "    _range = _max - _min + 1\n",
    "\n",
    "    # pigeonholes\n",
    "    '''holes = [0 for i in range(_range)]'''\n",
    "    holes = [0] * _range\n",
    "    \n",
    "    # populate the holes\n",
    "    for x in values:\n",
    "        holes[x - _min] += 1\n",
    "\n",
    "    # new sorted list, putting elements back to save space\n",
    "    i = 0\n",
    "    for count in range(_range):\n",
    "        while holes[count] > 0:\n",
    "            # copy all elements from each hole\n",
    "            holes[count] -= 1\n",
    "            values[i] = count + _min\n",
    "            i += 1\n",
    "            pass\n",
    "    return values"
   ]
  },
  {
   "cell_type": "code",
   "execution_count": 4,
   "metadata": {},
   "outputs": [
    {
     "name": "stdout",
     "output_type": "stream",
     "text": [
      "random list: [26, 56, 20, 84, 42, 58, 76, 82, 12, 28, 86, 82, 72, 46, 50, 100, 68, 72, 72, 60, 78, 80, 34, 36, 76, 22, 90, 98, 2, 56]\n",
      "\n",
      "\n",
      "sorted list: [2, 12, 20, 22, 26, 28, 34, 36, 42, 46, 50, 56, 56, 58, 60, 68, 72, 72, 72, 76, 76, 78, 80, 82, 82, 84, 86, 90, 98, 100]\n"
     ]
    }
   ],
   "source": [
    "iter_gr = iter(gr())\n",
    "a = [next(iter_gr) for i in range(30)]\n",
    "print(\"random list:\", a)\n",
    "print()\n",
    "\n",
    "sortedList = pigeonsort(a)\n",
    "print()\n",
    "print(\"sorted list:\", sortedList)"
   ]
  },
  {
   "cell_type": "markdown",
   "metadata": {},
   "source": [
    "<br/>\n",
    "<h2>실습 6.4</h2><br/>  <b>아래는 fibonacci rabbit에 대한 설명 및 그림이다.<br/><br/></b>\n",
    "참고사이트 : <a href=\"https://ko.wikipedia.org/wiki/피보나치_수\">피보나치의 수, 위키</a>\n",
    "\n",
    "![rabbits2](img/rabbits2.png)<br/>\n",
    "\n",
    "![rabbits](img/rabbits.png)\n",
    "<br/><br/>\n",
    "<b>토끼 농장을 하려고 하는 이산이는 위 피보나치의 수를 이용하여 오늘 새로 태어난 암수 n쌍의 토끼(즉, n*2마리)를 데려왔을 때 m개월이 지나면 얼마나 많은 토끼가 있는 지 알고 싶다. 토끼 1쌍이 자식을 낳을 때 암수 한 마리씩 낳는다고(즉, 총 2마리) 가정했을 때 m개월이 지나면 얼마나 많은 토끼가 존재하는 지 알아내시오. </b>\n",
    "\n",
    "※ 풀이조건\n",
    "\n",
    "<ol>\n",
    "    <li>아래 코드를 실행했을 때 올바른 결과를 출력하도록 코드를 작성하시오.</li>\n",
    "</ol>\n",
    "\n",
    "※ 제한조건\n",
    "<ol>\n",
    "    <li>rabbit 함수 내 yield 문이 선언되어야 한다. 선언되지 않았을 시 0점 처리한다.</li>\n",
    "    <li>import를 사용하지 않는다. 사용할 시 0점 처리한다.</li>\n",
    "    <li>아래 출력 예시에 맞게 출력되어야 한다.</li>\n",
    "</ol>"
   ]
  },
  {
   "cell_type": "raw",
   "metadata": {},
   "source": [
    "(출력 예시 1)\n",
    "새로 태어난 토끼의 쌍 : 4\n",
    "몇 개월 후 : 6\n",
    "처음에 태어난 토끼는 8마리가 있다.\n",
    "6개월이 지나고 토끼는 64마리가 있다.\n",
    "\n",
    "(출력 예시 2)\n",
    "새로 태어난 토끼의 쌍 : 5\n",
    "몇 개월 후 : 6\n",
    "처음에 태어난 토끼는 10마리가 있다.\n",
    "6개월이 지나고 토끼는 80마리가 있다."
   ]
  },
  {
   "cell_type": "code",
   "execution_count": 11,
   "metadata": {},
   "outputs": [],
   "source": [
    "def rabbit(m, n) :\n",
    "    a = 0\n",
    "    b = n\n",
    "    counter = 0\n",
    "    while True:\n",
    "        if (counter > m):\n",
    "            return\n",
    "        yield a\n",
    "        a, b = b, a + b\n",
    "        counter += 1"
   ]
  },
  {
   "cell_type": "code",
   "execution_count": 12,
   "metadata": {},
   "outputs": [
    {
     "name": "stdout",
     "output_type": "stream",
     "text": [
      "새로 태어난 토끼의 쌍 : 4\n",
      "몇 개월 후 : 6\n",
      "처음에 태어난 토끼는 8마리가 있다.\n",
      "6 개월이 지나고 토끼는 64마리가 있다.\n"
     ]
    }
   ],
   "source": [
    "n = int(input(\"새로 태어난 토끼의 쌍 : \"))\n",
    "m = int(input(\"몇 개월 후 : \"))\n",
    "print(\"처음에 태어난 토끼는 %d마리가 있다.\" % (n*2))\n",
    "rabbits = rabbit(m, n)\n",
    "rabbits2 = list(rabbits)\n",
    "print(\"%d 개월이 지나고 토끼는 %d마리가 있다.\" % (m, rabbits2[-1]*2))"
   ]
  },
  {
   "cell_type": "code",
   "execution_count": null,
   "metadata": {},
   "outputs": [],
   "source": []
  }
 ],
 "metadata": {
  "kernelspec": {
   "display_name": "Python 3",
   "language": "python",
   "name": "python3"
  }
 },
 "nbformat": 4,
 "nbformat_minor": 1
}
