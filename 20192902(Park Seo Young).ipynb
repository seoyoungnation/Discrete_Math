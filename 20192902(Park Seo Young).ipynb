{
 "cells": [
  {
   "cell_type": "markdown",
   "metadata": {},
   "source": [
    "# 이산 수학 중간 고사.  \n",
    "### $~~~~~~~~~~~~~~~~~~~~~~~~~~~~~~~~~~~~~~~~~~~~~~~~~~~~~~~~~~~~~~~~~~~~~~~~~~~~~~~~~$ 2019.10.28.\n",
    "### 다음의 문제들을 jupyter notebook 파일에 풀어 '학번(영문명).ipynb' 로 스마트 캠퍼스에 올리시오."
   ]
  },
  {
   "cell_type": "markdown",
   "metadata": {},
   "source": [
    "## 1(25).  정수 리스트 'lst' 와 정수 'x' 가 주어졌을 때,  정수 'x'가 주어진 정수 리스트'lst' 에서 마지막으로 몇번째에 나타나는 지의 순번을 리턴하고, 그러지 않으면, \"찾을 수없다.\"  라는 스트링을 출력하는   함수를 파이썬으로 구현하고자 한다.   (예; [ 5,9,3,4,7,9,3] 에서 3은 7번째에 마지막 나타나므로, 7을 복귀함.)  "
   ]
  },
  {
   "cell_type": "markdown",
   "metadata": {},
   "source": [
    "### (a)(10). 반복적인(iterative) 방법을 사용하여 구현하여 보시오."
   ]
  },
  {
   "cell_type": "code",
   "execution_count": 50,
   "metadata": {},
   "outputs": [],
   "source": [
    "def iter_search(a, x):\n",
    "    pos = len(a)+1\n",
    "    for i in range(len(a)-1, -1, -1):\n",
    "        if (a[i] == x):\n",
    "            return i+1\n",
    "    print(\"찾을 수 없다\")"
   ]
  },
  {
   "cell_type": "code",
   "execution_count": 51,
   "metadata": {},
   "outputs": [
    {
     "data": {
      "text/plain": [
       "7"
      ]
     },
     "execution_count": 51,
     "metadata": {},
     "output_type": "execute_result"
    }
   ],
   "source": [
    "lst = [5, 9, 3, 4, 7, 9, 3]\n",
    "iter_search(lst, 3)"
   ]
  },
  {
   "cell_type": "markdown",
   "metadata": {},
   "source": [
    "### b(10). 주어진 정수 리스트를 왼쪽 반, 오른쪽 반으로 분할하여 각 분할에서  탐색하도록 지원하는 재귀적(recursive) 방법으로 구현하여 보시오.  찾을 수없으면, \"찾을 수없다.\"  라는 스트링을 출력하여야 함. "
   ]
  },
  {
   "cell_type": "code",
   "execution_count": 66,
   "metadata": {},
   "outputs": [],
   "source": [
    "def recursive_search(x, num, leng, idx = 1):\n",
    "    if len(x) < 2:\n",
    "        return (x[0] == num), (idx)\n",
    "    mid = len(x) // 2\n",
    "    left, leftIdx = recursive_search(x[mid:], num, leng, idx+mid)\n",
    "    right, rightIdx = recursive_search(x[:mid], num, leng, idx)\n",
    "    if (left):\n",
    "        return left, leftIdx\n",
    "    elif(right):\n",
    "        return right, rightIdx\n",
    "    else:\n",
    "        return False, \"찾을 수 없다\""
   ]
  },
  {
   "cell_type": "code",
   "execution_count": 67,
   "metadata": {},
   "outputs": [
    {
     "data": {
      "text/plain": [
       "7"
      ]
     },
     "execution_count": 67,
     "metadata": {},
     "output_type": "execute_result"
    }
   ],
   "source": [
    "a = [5, 9, 3, 4, 7, 9, 3]\n",
    "_, x = recursive_search(a, 3, len(a))\n",
    "x"
   ]
  },
  {
   "cell_type": "markdown",
   "metadata": {},
   "source": [
    "### c(5).  0부터 6 까지의 정수중 랜덤하게 생성하여 만든 열개 정수 리스트에 대해(예; [1,4,2,3,4,5,6,0,2,5]), '5' 가 있으면 마지막으로 어느 위치에 있는 지를 상기 문제 (a)와 (b)에서 만든 파이썬 함수를 이용하여 점검하는 파이썬 코드를 작성하여 보시오. "
   ]
  },
  {
   "cell_type": "code",
   "execution_count": 68,
   "metadata": {},
   "outputs": [
    {
     "name": "stdout",
     "output_type": "stream",
     "text": [
      "[6, 4, 5, 0, 5, 4, 6, 1, 1, 1]\n",
      "5\n",
      "5\n"
     ]
    }
   ],
   "source": [
    "import random\n",
    "lst = [random.randint(0,6) for i in range(0,10)]\n",
    "print(lst)\n",
    "res1 = iter_search(lst, 5)\n",
    "_, res2 = recursive_search(lst, 5, len(lst))\n",
    "print(res1)\n",
    "print(res2)"
   ]
  },
  {
   "cell_type": "markdown",
   "metadata": {},
   "source": [
    "## 2(30). 다음을 푸시오. "
   ]
  },
  {
   "cell_type": "markdown",
   "metadata": {},
   "source": [
    "### (a)(5) n 개의 주어진 정수 $(a_1, a_2, ...., a_n )$ 에 대해 합, 평균, 분산을 계산하는 파이썬 함수 코드를 작성하시오. \n",
    "####  n 개의 주어진 정수 $(a_1, a_2, ...., a_n )$ 의 분산(variance) $\\sigma^2$ 은 평균을 $m(:=\\frac{\\sum_{i=1}^{i=n} a_i}{n}  )$ 이라 할 때, $\\sigma^2:=\\frac{\\sum_{i=1}^{i=n} { (a_i -m)^2 }}{n} $ 로 정의된다. \n",
    "#### 주의; 파이썬 코드내에서 파이썬 내장 명령어 또는 'numpy' 등의  함수  사용은 허용이 안됨. "
   ]
  },
  {
   "cell_type": "code",
   "execution_count": 46,
   "metadata": {},
   "outputs": [],
   "source": [
    "def get_sum(a):\n",
    "    n = 0\n",
    "    for i in range(0, len(a), 1):\n",
    "        n += a[i]\n",
    "    return n\n",
    "\n",
    "def get_avg(a):\n",
    "    n = get_sum(a)\n",
    "    return (n / len(a))\n",
    "        \n",
    "def variance(a):\n",
    "    avg = get_avg(a)\n",
    "    temp = 0\n",
    "    for i in range(0, len(a), 1):\n",
    "        temp += ((a[i] - avg) ** 2)\n",
    "    return (temp / len(a))"
   ]
  },
  {
   "cell_type": "markdown",
   "metadata": {},
   "source": [
    "### (b)(5)  a=(9,3,7,9,2,5,8)에 대해 (a)에서 코딩한 평균 및 분산값 구하는 파이썬  함수를 적용하여 보시오. "
   ]
  },
  {
   "cell_type": "code",
   "execution_count": 47,
   "metadata": {},
   "outputs": [
    {
     "name": "stdout",
     "output_type": "stream",
     "text": [
      "6.142857142857143 6.979591836734694\n"
     ]
    }
   ],
   "source": [
    "a = [9, 3, 7, 9, 2, 5, 8]\n",
    "avg = get_avg(a)\n",
    "var = variance(a)\n",
    "print(avg, var)"
   ]
  },
  {
   "cell_type": "markdown",
   "metadata": {},
   "source": [
    "### (c)(5)  정수 리스트  a=(9,3,7,9,2,5,8) 의 분산을 파이썬의 map, reduce 함수를 이용하여 구하는 코드를 작성해보시오. "
   ]
  },
  {
   "cell_type": "code",
   "execution_count": 48,
   "metadata": {},
   "outputs": [
    {
     "name": "stdout",
     "output_type": "stream",
     "text": [
      "6.979591836734694\n"
     ]
    }
   ],
   "source": [
    "a=[9,3,7,9,2,5,8]\n",
    "avg = get_avg(a)\n",
    "temp = list(map(lambda a: (a-avg) ** 2, a))\n",
    "var = get_avg(temp)\n",
    "print(var)"
   ]
  },
  {
   "cell_type": "markdown",
   "metadata": {},
   "source": [
    "### 상기 분산을 정의하는 식 $\\sigma^2:=\\frac{\\sum_{i=1}^{i=n} { (a_i -m)^2 }}{n} $는 다음과 같이 고쳐 쓸 수있다,\n",
    "$\\sigma^2:=\\frac{\\sum_{i=1}^{i=n}a_i^2- \\frac{(\\sum_{i=1}^{i=n}a_i)^2}{n}}{n} $    \n",
    "이를 이용하는 분산 계산 pseudocode 는 다음과 같다.   \n",
    " \n",
    "Let n ← 0, Sum ← 0, SumSq ← 0  \n",
    "For each datum x:  \n",
    "n ← n + 1  \n",
    "Sum ← Sum + x  \n",
    "SumSq ← SumSq + x × x  \n",
    "Var = (SumSq − (Sum × Sum) / n) / n  "
   ]
  },
  {
   "cell_type": "markdown",
   "metadata": {},
   "source": [
    "### (d)(5) 상기 pseudocode 기반으로 주어진 리스트의 분산을 계산하는 파이썬 함수 코드를 작성하고, 이를 이용하여 정수 리스트  a=(9,3,7,9,2,5,8) 의 분산을 계산해 보시오."
   ]
  },
  {
   "cell_type": "code",
   "execution_count": 33,
   "metadata": {},
   "outputs": [],
   "source": [
    "def pseudo(x):\n",
    "    n = 0\n",
    "    sum = 0\n",
    "    sumsq = 0\n",
    "    for i in range(0, len(x)):\n",
    "        n += 1\n",
    "        sum += x[i]\n",
    "        sumsq += x[i] ** 2\n",
    "    var = (sumsq - (sum ** 2) / n) / n\n",
    "    return var"
   ]
  },
  {
   "cell_type": "code",
   "execution_count": 34,
   "metadata": {},
   "outputs": [
    {
     "data": {
      "text/plain": [
       "6.9795918367346905"
      ]
     },
     "execution_count": 34,
     "metadata": {},
     "output_type": "execute_result"
    }
   ],
   "source": [
    "a = [9, 3, 7, 9, 2, 5, 8]\n",
    "pseudo(a)"
   ]
  },
  {
   "cell_type": "markdown",
   "metadata": {},
   "source": [
    "### (e)(10) 상기 pseudocode 에서 'Sum ← Sum + x' 은 n 개 정수 $a_1 , a_2, \\cdots , a_n $ 에 대해 \n",
    " $~~~~~~~~~~~ \\sum_{i=1}^{i=n}a_i $ 을   \n",
    " ### 'SumSq ← SumSq + x × x ' 은  n 개 정수 $a_1 , a_2, \\cdots , a_n $ 에 대해   \n",
    " $~~~~~~~~~~~ \\sum_{i=1}^{i=n}a_i^2 $ 을  \n",
    " ###  각각 의미한다. 'Sum ← Sum + x' 와 'SumSq ← SumSq + x × x ' 를 구현하는 파이썬 재귀함수를 구현하고 이 구현 함수를 이용하여 리스트  a=(9,3,7,9,2,5,8) 의 분산을 계산해 보시오."
   ]
  },
  {
   "cell_type": "code",
   "execution_count": 35,
   "metadata": {},
   "outputs": [],
   "source": [
    "def recur_sum(a, n):\n",
    "    if (n == 0):\n",
    "        return a[n]\n",
    "    return (a[n] + (recur_sum(a,n-1) * n)) / (n+1)\n",
    "\n",
    "def recur_sumsq(a, n):\n",
    "    if (n == 0):\n",
    "        return (a[n] ** 2)\n",
    "    return ((a[n] ** 2) + (recur_sumsq(a,n-1) * n)) / (n+1)\n",
    "\n",
    "def variance(a, n):\n",
    "    sumsq1 = recur_sumsq(a, n-1)\n",
    "    sum1 = recur_sum(a,n-1) ** 2\n",
    "    return(sumsq1 - sum1)\n",
    "\n",
    "#(SumSq / n) − (Sum / n)^2 = (SumSq − (Sum × Sum) / n) / n\n"
   ]
  },
  {
   "cell_type": "code",
   "execution_count": 36,
   "metadata": {},
   "outputs": [
    {
     "data": {
      "text/plain": [
       "6.979591836734691"
      ]
     },
     "execution_count": 36,
     "metadata": {},
     "output_type": "execute_result"
    }
   ],
   "source": [
    "a=[9,3,7,9,2,5,8]\n",
    "variance(a,len(a))"
   ]
  },
  {
   "cell_type": "markdown",
   "metadata": {},
   "source": [
    "## 3(25).\n",
    "### (a)(5) 거스름돈을 100원짜리 동전, 50원짜리 동전, 10원짜리 동전, 1원짜리 동전 으로 돌려 줄려고 한다. 주어진 거스름 돈 n원을 에 대해서, 거슬려 줄 돈의 동전 갯수가 최소로 하는 각 동전의 갯수는 몇개 인가를 알려주는 파이썬 코드를 작성해 보시오.  \n",
    "#### (거스름 돈이 n 원일때, 화면 출력과 다음과 같이 되도록 하시오; \n",
    "\n",
    "주어진 거스름 돈 n원에 대해 거슬러 줄 최소 동전 갯수 p 개이며, 이 때;  \n",
    " 100원 동전 갯수는 x개  \n",
    "  50원 동전 갯수는 y개  \n",
    "  10원 동전 갯수는 z개  \n",
    "   1원 동전 갯수는 w개   \n",
    "####   )"
   ]
  },
  {
   "cell_type": "code",
   "execution_count": 37,
   "metadata": {},
   "outputs": [],
   "source": [
    "def change(n):\n",
    "    x = n // 100; temp = n % 100\n",
    "    y = temp // 50; temp = temp % 50\n",
    "    z = temp // 10\n",
    "    w = temp % 10\n",
    "    p = x + y + z + w\n",
    "    print('''주어진 거스름 돈 %d원에 대해 거슬러 줄 최소 동전 갯수 %d개이며, 이 때;\n",
    "100원 동전 갯수는 %d개\n",
    "50원 동전 갯수는 %d개\n",
    "10원 동전 갯수는 %d개\n",
    "1원 동전 갯수는 %d개''' %(n, p, x, y, z, w))\n",
    "    "
   ]
  },
  {
   "cell_type": "markdown",
   "metadata": {},
   "source": [
    "### (b)(5). 0 에서 1000 사이의 수를 랜덤으로 5개 골라서, (a)에서 작성한 파이썬 함수를 이용하여 이 5개 거스름 돈에 대해 각 동전의 갯수를 출력해 보시오."
   ]
  },
  {
   "cell_type": "code",
   "execution_count": 38,
   "metadata": {},
   "outputs": [
    {
     "name": "stdout",
     "output_type": "stream",
     "text": [
      "주어진 거스름 돈 214원에 대해 거슬러 줄 최소 동전 갯수 7개이며, 이 때;\n",
      "100원 동전 갯수는 2개\n",
      "50원 동전 갯수는 0개\n",
      "10원 동전 갯수는 1개\n",
      "1원 동전 갯수는 4개\n"
     ]
    }
   ],
   "source": [
    "import random\n",
    "n = random.randint(0, 1000)\n",
    "change(n)"
   ]
  },
  {
   "cell_type": "markdown",
   "metadata": {},
   "source": [
    "### (c)(15).  거스름돈을 100원짜리 동전, 50원짜리 동전, 10원짜리 동전, 1원짜리 동전 으로 돌려 줄려고 한다. 거스름 돈 n원에 대해서,  거슬러 주는 경우의 수를  $C(n)$ 이라 하자.  이때, 점화식(recursive relation)를 구하시오. \n",
    "#### (동전의 순서는 고려하지 않는다. 즉, 11원은 1원짜리 11개 또는 10원 짜리 1개 1원 짜리 1개로 총 2가지 경우가 있다.)"
   ]
  },
  {
   "cell_type": "markdown",
   "metadata": {},
   "source": [
    "# ANSWER\n",
    "$C(n) = C(n-r) + C(r)$\n",
    "#### \n",
    "𝑛원을 거스름돈으로 돌려줘야 하는 경우의 수는 n원을 최종적으로 거슬러 주어야 하는 경우, r원을 거슬러줬을 때 남은 n-r원을 거슬러 주어야하는 경우의 수를 구해 현재 경우에 수에 더한다."
   ]
  },
  {
   "cell_type": "markdown",
   "metadata": {},
   "source": [
    "## 4(20). 처음에  $n = 2^k$ 팀이 있다고 한다. 이  ' n' 개 팀이 리그로 경기하여(즉, 모두 1번씩 다른 팀들과 게임한다.) 이 때, 승수가 적은 하위 $n/2$ 팀이 탈락하고, 승수가 많은  상위 $n/2$ 팀이 다음 라운드에 진출한다고 한다.   탈락되지 않고 남은 팀이 1팀이 될 때까지 남은 팀끼리 리그 경기를 계속한다고  한다고 한다.  "
   ]
  },
  {
   "cell_type": "markdown",
   "metadata": {},
   "source": [
    "### (a)(5). 이러한 리그  경기에서 경기수를 계산하는 점화식(recurrence relation)를 구하시오."
   ]
  },
  {
   "cell_type": "markdown",
   "metadata": {},
   "source": [
    "# ANSWER\n",
    "#### n = 2 ^ k\n",
    "$R(1) = 1$\n",
    "$R(n) = \\sum_{i=1}^{i=n-1}i + R((n/2)-1)$\n",
    "#### 한 라운드의 경기 수는 1부터 2^(n/2)-1의 총합이기 때문에, 이전 라운드의 결과값을 모두 더하여야 리그 경기의 경기수를 계산할 수 있다"
   ]
  },
  {
   "cell_type": "markdown",
   "metadata": {},
   "source": [
    "### (b)(5). 처음에 16개 팀이 있으면, 총 몇 게임이 진행되는 가?"
   ]
  },
  {
   "cell_type": "code",
   "execution_count": 41,
   "metadata": {},
   "outputs": [
    {
     "name": "stdout",
     "output_type": "stream",
     "text": [
      "155\n"
     ]
    }
   ],
   "source": [
    "print(155)"
   ]
  },
  {
   "cell_type": "markdown",
   "metadata": {},
   "source": [
    "### (c)(5). 상기 점화식을 이용하여 총 경기수를 계산하는 파이썬 함수를 코딩하시오. 이를 이용하여 16 개 팀인 경우에 총 게임수는 (b)에서 게산한 것과 같음을 보이시오. "
   ]
  },
  {
   "cell_type": "code",
   "execution_count": 42,
   "metadata": {},
   "outputs": [],
   "source": [
    "def sigma(n):\n",
    "    if n == 1:\n",
    "        return 1\n",
    "    return n + sigma(n-1)\n",
    "\n",
    "def match(k):\n",
    "    if (k == 1):\n",
    "        return 1\n",
    "    return sigma((2**k)-1) + match(k-1)"
   ]
  },
  {
   "cell_type": "code",
   "execution_count": 43,
   "metadata": {},
   "outputs": [
    {
     "name": "stdout",
     "output_type": "stream",
     "text": [
      "155\n"
     ]
    }
   ],
   "source": [
    "print(match(4))"
   ]
  },
  {
   "cell_type": "markdown",
   "metadata": {},
   "source": [
    "### (d)(5). 상기 점화식을 이용하여 총 경기수 $R(n)$ 이 $ O(n^2 ) $ 임을 보이시오."
   ]
  },
  {
   "cell_type": "markdown",
   "metadata": {},
   "source": [
    "# ANSWER\n",
    "#### $n = 2 ^ k$ \n",
    "#### $R(1) = 1$\n",
    "#### $R(n) = \\sum_{i=1}^{i=n-1}i + R((n/2)-1)$\n",
    "이때 (1)에 의하여 n에 2^k를 대입해주면\n",
    "#### $R(2^k) = \\sum_{i=1}^{i=2^k-1}i + R((2^k)/2 - 1)$\n",
    "#### $O(r) = \\sum_{i=1}^{i=2^r-1}i + O(r-1)$\n",
    "이때 $k = n ^ (1/2)$ 가 성립한다. \n",
    "따라서 $R(n)= O(n^2)$이다"
   ]
  },
  {
   "cell_type": "code",
   "execution_count": null,
   "metadata": {},
   "outputs": [],
   "source": []
  }
 ],
 "metadata": {
  "kernelspec": {
   "display_name": "Python 3",
   "language": "python",
   "name": "python3"
  },
  "language_info": {
   "codemirror_mode": {
    "name": "ipython",
    "version": 3
   },
   "file_extension": ".py",
   "mimetype": "text/x-python",
   "name": "python",
   "nbconvert_exporter": "python",
   "pygments_lexer": "ipython3",
   "version": "3.6.5"
  }
 },
 "nbformat": 4,
 "nbformat_minor": 2
}
